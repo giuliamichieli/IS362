{
 "cells": [
  {
   "cell_type": "markdown",
   "metadata": {},
   "source": [
    "# Assigment Web API\n"
   ]
  },
  {
   "cell_type": "markdown",
   "metadata": {},
   "source": [
    "### Data"
   ]
  },
  {
   "cell_type": "code",
   "execution_count": 2,
   "metadata": {},
   "outputs": [],
   "source": [
    "# Import libraries\n",
    "import pandas as pd\n",
    "import numpy as np\n",
    "import sys\n"
   ]
  },
  {
   "source": [
    "### 1. Load data"
   ],
   "cell_type": "markdown",
   "metadata": {}
  },
  {
   "cell_type": "code",
   "execution_count": 44,
   "metadata": {},
   "outputs": [
    {
     "output_type": "execute_result",
     "data": {
      "text/plain": [
       "  status                                          copyright  num_results  \\\n",
       "0     OK  Copyright (c) 2021 The New York Times Company....           59   \n",
       "1     OK  Copyright (c) 2021 The New York Times Company....           59   \n",
       "2     OK  Copyright (c) 2021 The New York Times Company....           59   \n",
       "3     OK  Copyright (c) 2021 The New York Times Company....           59   \n",
       "4     OK  Copyright (c) 2021 The New York Times Company....           59   \n",
       "\n",
       "                                             results  \n",
       "0  {'list_name': 'Combined Print and E-Book Ficti...  \n",
       "1  {'list_name': 'Combined Print and E-Book Nonfi...  \n",
       "2  {'list_name': 'Hardcover Fiction', 'display_na...  \n",
       "3  {'list_name': 'Hardcover Nonfiction', 'display...  \n",
       "4  {'list_name': 'Trade Fiction Paperback', 'disp...  "
      ],
      "text/html": "<div>\n<style scoped>\n    .dataframe tbody tr th:only-of-type {\n        vertical-align: middle;\n    }\n\n    .dataframe tbody tr th {\n        vertical-align: top;\n    }\n\n    .dataframe thead th {\n        text-align: right;\n    }\n</style>\n<table border=\"1\" class=\"dataframe\">\n  <thead>\n    <tr style=\"text-align: right;\">\n      <th></th>\n      <th>status</th>\n      <th>copyright</th>\n      <th>num_results</th>\n      <th>results</th>\n    </tr>\n  </thead>\n  <tbody>\n    <tr>\n      <td>0</td>\n      <td>OK</td>\n      <td>Copyright (c) 2021 The New York Times Company....</td>\n      <td>59</td>\n      <td>{'list_name': 'Combined Print and E-Book Ficti...</td>\n    </tr>\n    <tr>\n      <td>1</td>\n      <td>OK</td>\n      <td>Copyright (c) 2021 The New York Times Company....</td>\n      <td>59</td>\n      <td>{'list_name': 'Combined Print and E-Book Nonfi...</td>\n    </tr>\n    <tr>\n      <td>2</td>\n      <td>OK</td>\n      <td>Copyright (c) 2021 The New York Times Company....</td>\n      <td>59</td>\n      <td>{'list_name': 'Hardcover Fiction', 'display_na...</td>\n    </tr>\n    <tr>\n      <td>3</td>\n      <td>OK</td>\n      <td>Copyright (c) 2021 The New York Times Company....</td>\n      <td>59</td>\n      <td>{'list_name': 'Hardcover Nonfiction', 'display...</td>\n    </tr>\n    <tr>\n      <td>4</td>\n      <td>OK</td>\n      <td>Copyright (c) 2021 The New York Times Company....</td>\n      <td>59</td>\n      <td>{'list_name': 'Trade Fiction Paperback', 'disp...</td>\n    </tr>\n  </tbody>\n</table>\n</div>"
     },
     "metadata": {},
     "execution_count": 44
    }
   ],
   "source": [
    "\n",
    "\n",
    "df = pd.read_json('https://api.nytimes.com/svc/books/v3/lists/names.json?api-key=vphZ4JN3Tw7gZFXi0bwEOl7uWJ9l2KBK')\n",
    "#df = pd.read_json('https://api.nytimes.com/svc/books/v3/lists/current/trade-fiction-paperback.json?api-key=vphZ4JN3Tw7gZFXi0bwEOl7uWJ9l2KBK')\n",
    "\n",
    "\n",
    "\n",
    "\n",
    "df.head()"
   ]
  },
  {
   "cell_type": "code",
   "execution_count": 45,
   "metadata": {},
   "outputs": [
    {
     "output_type": "execute_result",
     "data": {
      "text/plain": [
       "Index(['status', 'copyright', 'num_results', 'results'], dtype='object')"
      ]
     },
     "metadata": {},
     "execution_count": 45
    }
   ],
   "source": [
    "df.columns"
   ]
  },
  {
   "cell_type": "code",
   "execution_count": 46,
   "metadata": {},
   "outputs": [
    {
     "output_type": "execute_result",
     "data": {
      "text/plain": [
       "(59, 4)"
      ]
     },
     "metadata": {},
     "execution_count": 46
    }
   ],
   "source": [
    "df.shape"
   ]
  },
  {
   "cell_type": "code",
   "execution_count": 53,
   "metadata": {
    "tags": []
   },
   "outputs": [
    {
     "output_type": "stream",
     "name": "stdout",
     "text": [
      "combined-print-and-e-book-fiction\ncombined-print-and-e-book-nonfiction\nhardcover-fiction\nhardcover-nonfiction\ntrade-fiction-paperback\nmass-market-paperback\npaperback-nonfiction\ne-book-fiction\ne-book-nonfiction\nhardcover-advice\npaperback-advice\nadvice-how-to-and-miscellaneous\nhardcover-graphic-books\npaperback-graphic-books\nmanga\ncombined-print-fiction\ncombined-print-nonfiction\nchapter-books\nchildrens-middle-grade\nchildrens-middle-grade-e-book\nchildrens-middle-grade-hardcover\nchildrens-middle-grade-paperback\npaperback-books\npicture-books\nseries-books\nyoung-adult\nyoung-adult-e-book\nyoung-adult-hardcover\nyoung-adult-paperback\nanimals\naudio-fiction\naudio-nonfiction\nbusiness-books\ncelebrities\ncrime-and-punishment\nculture\neducation\nespionage\nexpeditions-disasters-and-adventures\nfashion-manners-and-customs\nfood-and-fitness\ngames-and-activities\ngraphic-books-and-manga\nhardcover-business-books\nhealth\nhumor\nindigenous-americans\nrelationships\nmass-market-monthly\nmiddle-grade-paperback-monthly\npaperback-business-books\nfamily\nhardcover-political-books\nrace-and-civil-rights\nreligion-spirituality-and-faith\nscience\nsports\ntravel\nyoung-adult-paperback-monthly\n"
     ]
    }
   ],
   "source": [
    "endpoints = []\n",
    "for row in df.results:\n",
    "    print(row['list_name_encoded'])\n",
    "    endpoints.append(row['list_name_encoded'])\n",
    "    "
   ]
  },
  {
   "cell_type": "code",
   "execution_count": 54,
   "metadata": {},
   "outputs": [
    {
     "output_type": "execute_result",
     "data": {
      "text/plain": [
       "['combined-print-and-e-book-fiction',\n",
       " 'combined-print-and-e-book-nonfiction',\n",
       " 'hardcover-fiction',\n",
       " 'hardcover-nonfiction',\n",
       " 'trade-fiction-paperback',\n",
       " 'mass-market-paperback',\n",
       " 'paperback-nonfiction',\n",
       " 'e-book-fiction',\n",
       " 'e-book-nonfiction',\n",
       " 'hardcover-advice',\n",
       " 'paperback-advice',\n",
       " 'advice-how-to-and-miscellaneous',\n",
       " 'hardcover-graphic-books',\n",
       " 'paperback-graphic-books',\n",
       " 'manga',\n",
       " 'combined-print-fiction',\n",
       " 'combined-print-nonfiction',\n",
       " 'chapter-books',\n",
       " 'childrens-middle-grade',\n",
       " 'childrens-middle-grade-e-book',\n",
       " 'childrens-middle-grade-hardcover',\n",
       " 'childrens-middle-grade-paperback',\n",
       " 'paperback-books',\n",
       " 'picture-books',\n",
       " 'series-books',\n",
       " 'young-adult',\n",
       " 'young-adult-e-book',\n",
       " 'young-adult-hardcover',\n",
       " 'young-adult-paperback',\n",
       " 'animals',\n",
       " 'audio-fiction',\n",
       " 'audio-nonfiction',\n",
       " 'business-books',\n",
       " 'celebrities',\n",
       " 'crime-and-punishment',\n",
       " 'culture',\n",
       " 'education',\n",
       " 'espionage',\n",
       " 'expeditions-disasters-and-adventures',\n",
       " 'fashion-manners-and-customs',\n",
       " 'food-and-fitness',\n",
       " 'games-and-activities',\n",
       " 'graphic-books-and-manga',\n",
       " 'hardcover-business-books',\n",
       " 'health',\n",
       " 'humor',\n",
       " 'indigenous-americans',\n",
       " 'relationships',\n",
       " 'mass-market-monthly',\n",
       " 'middle-grade-paperback-monthly',\n",
       " 'paperback-business-books',\n",
       " 'family',\n",
       " 'hardcover-political-books',\n",
       " 'race-and-civil-rights',\n",
       " 'religion-spirituality-and-faith',\n",
       " 'science',\n",
       " 'sports',\n",
       " 'travel',\n",
       " 'young-adult-paperback-monthly']"
      ]
     },
     "metadata": {},
     "execution_count": 54
    }
   ],
   "source": [
    "endpoints"
   ]
  },
  {
   "cell_type": "code",
   "execution_count": 85,
   "metadata": {},
   "outputs": [
    {
     "output_type": "stream",
     "name": "stdout",
     "text": [
      "combined-print-and-e-book-fiction\n",
      "combined-print-and-e-book-nonfiction\n",
      "hardcover-fiction\n",
      "hardcover-nonfiction\n",
      "trade-fiction-paperback\n",
      "mass-market-paperback\n",
      "paperback-nonfiction\n",
      "e-book-fiction\n",
      "e-book-nonfiction\n",
      "hardcover-advice\n",
      "paperback-advice\n",
      "advice-how-to-and-miscellaneous\n",
      "hardcover-graphic-books\n",
      "paperback-graphic-books\n",
      "manga\n",
      "combined-print-fiction\n",
      "combined-print-nonfiction\n",
      "chapter-books\n",
      "childrens-middle-grade\n",
      "childrens-middle-grade-e-book\n",
      "childrens-middle-grade-hardcover\n",
      "childrens-middle-grade-paperback\n",
      "paperback-books\n",
      "picture-books\n",
      "series-books\n",
      "young-adult\n",
      "young-adult-e-book\n",
      "young-adult-hardcover\n",
      "young-adult-paperback\n",
      "animals\n",
      "audio-fiction\n",
      "audio-nonfiction\n",
      "business-books\n",
      "celebrities\n",
      "crime-and-punishment\n",
      "culture\n",
      "education\n",
      "espionage\n",
      "expeditions-disasters-and-adventures\n",
      "fashion-manners-and-customs\n",
      "food-and-fitness\n",
      "games-and-activities\n",
      "graphic-books-and-manga\n",
      "hardcover-business-books\n",
      "health\n",
      "humor\n",
      "indigenous-americans\n",
      "relationships\n",
      "mass-market-monthly\n",
      "middle-grade-paperback-monthly\n",
      "paperback-business-books\n",
      "family\n",
      "hardcover-political-books\n",
      "race-and-civil-rights\n",
      "religion-spirituality-and-faith\n",
      "science\n",
      "sports\n",
      "travel\n",
      "young-adult-paperback-monthly\n"
     ]
    },
    {
     "output_type": "execute_result",
     "data": {
      "text/plain": [
       "                              gender        publisher  \\\n",
       "0  combined-print-and-e-book-fiction           Putnam   \n",
       "0  combined-print-and-e-book-fiction             Ecco   \n",
       "0  combined-print-and-e-book-fiction  Hard Case Crime   \n",
       "0  combined-print-and-e-book-fiction           Morrow   \n",
       "0  combined-print-and-e-book-fiction             Avon   \n",
       "\n",
       "                                         description price  \\\n",
       "0  In a quiet town on the North Carolina coast in...  0.00   \n",
       "0  A reimagining of Homer’s “Iliad” that is narra...  0.00   \n",
       "0  An N.Y.P.D. detective asks the son of a strugg...  0.00   \n",
       "0  As a post-World War II royal wedding approache...  0.00   \n",
       "0  The first book in the Bridgerton series. Daphn...  0.00   \n",
       "\n",
       "                     title           author         contributor  \n",
       "0  WHERE THE CRAWDADS SING      Delia Owens      by Delia Owens  \n",
       "0     THE SONG OF ACHILLES  Madeline Miller  by Madeline Miller  \n",
       "0                    LATER     Stephen King     by Stephen King  \n",
       "0            THE ROSE CODE       Kate Quinn       by Kate Quinn  \n",
       "0           THE DUKE AND I      Julia Quinn      by Julia Quinn  "
      ],
      "text/html": "<div>\n<style scoped>\n    .dataframe tbody tr th:only-of-type {\n        vertical-align: middle;\n    }\n\n    .dataframe tbody tr th {\n        vertical-align: top;\n    }\n\n    .dataframe thead th {\n        text-align: right;\n    }\n</style>\n<table border=\"1\" class=\"dataframe\">\n  <thead>\n    <tr style=\"text-align: right;\">\n      <th></th>\n      <th>gender</th>\n      <th>publisher</th>\n      <th>description</th>\n      <th>price</th>\n      <th>title</th>\n      <th>author</th>\n      <th>contributor</th>\n    </tr>\n  </thead>\n  <tbody>\n    <tr>\n      <td>0</td>\n      <td>combined-print-and-e-book-fiction</td>\n      <td>Putnam</td>\n      <td>In a quiet town on the North Carolina coast in...</td>\n      <td>0.00</td>\n      <td>WHERE THE CRAWDADS SING</td>\n      <td>Delia Owens</td>\n      <td>by Delia Owens</td>\n    </tr>\n    <tr>\n      <td>0</td>\n      <td>combined-print-and-e-book-fiction</td>\n      <td>Ecco</td>\n      <td>A reimagining of Homer’s “Iliad” that is narra...</td>\n      <td>0.00</td>\n      <td>THE SONG OF ACHILLES</td>\n      <td>Madeline Miller</td>\n      <td>by Madeline Miller</td>\n    </tr>\n    <tr>\n      <td>0</td>\n      <td>combined-print-and-e-book-fiction</td>\n      <td>Hard Case Crime</td>\n      <td>An N.Y.P.D. detective asks the son of a strugg...</td>\n      <td>0.00</td>\n      <td>LATER</td>\n      <td>Stephen King</td>\n      <td>by Stephen King</td>\n    </tr>\n    <tr>\n      <td>0</td>\n      <td>combined-print-and-e-book-fiction</td>\n      <td>Morrow</td>\n      <td>As a post-World War II royal wedding approache...</td>\n      <td>0.00</td>\n      <td>THE ROSE CODE</td>\n      <td>Kate Quinn</td>\n      <td>by Kate Quinn</td>\n    </tr>\n    <tr>\n      <td>0</td>\n      <td>combined-print-and-e-book-fiction</td>\n      <td>Avon</td>\n      <td>The first book in the Bridgerton series. Daphn...</td>\n      <td>0.00</td>\n      <td>THE DUKE AND I</td>\n      <td>Julia Quinn</td>\n      <td>by Julia Quinn</td>\n    </tr>\n  </tbody>\n</table>\n</div>"
     },
     "metadata": {},
     "execution_count": 85
    }
   ],
   "source": [
    "columns = ['gender','publisher','description','price','title','author','contributor']\n",
    "df_books = pd.DataFrame(columns=columns)\n",
    "\n",
    "\n",
    "\n",
    "for e in endpoints:\n",
    "    print(e)\n",
    "    try:\n",
    "        df = pd.read_json('https://api.nytimes.com/svc/books/v3/lists/current/trade-fiction-paperback.json?api-key=vphZ4JN3Tw7gZFXi0bwEOl7uWJ9l2KBK')\n",
    "        for b in df.results['books']:\n",
    "            values = [e]\n",
    "            for k in [x for x in b.keys() if x in columns]:\n",
    "                values.append(b[k])\n",
    "            \n",
    "            \n",
    "            df_books = pd.concat([df_books, pd.DataFrame(columns=columns, data=[values])], sort=False)\n",
    "    except:\n",
    "        pass\n",
    "\n",
    "df_books.head()"
   ]
  },
  {
   "cell_type": "code",
   "execution_count": null,
   "metadata": {},
   "outputs": [],
   "source": [
    "df_books.head()"
   ]
  },
  {
   "cell_type": "code",
   "execution_count": 86,
   "metadata": {},
   "outputs": [
    {
     "output_type": "execute_result",
     "data": {
      "text/plain": [
       "(300, 7)"
      ]
     },
     "metadata": {},
     "execution_count": 86
    }
   ],
   "source": [
    "df_books.shape"
   ]
  },
  {
   "cell_type": "code",
   "execution_count": null,
   "metadata": {},
   "outputs": [],
   "source": []
  }
 ],
 "metadata": {
  "kernelspec": {
   "name": "python374jvsc74a57bd0344443636c3027c5042750c9c609acdda283a9c43681b128a8c1053e7ad2aa7d",
   "display_name": "Python 3.7.4 64-bit ('anaconda3': conda)"
  },
  "language_info": {
   "codemirror_mode": {
    "name": "ipython",
    "version": 3
   },
   "file_extension": ".py",
   "mimetype": "text/x-python",
   "name": "python",
   "nbconvert_exporter": "python",
   "pygments_lexer": "ipython3",
   "version": "3.7.4-final"
  }
 },
 "nbformat": 4,
 "nbformat_minor": 2
}