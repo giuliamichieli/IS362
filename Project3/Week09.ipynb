{
 "cells": [
  {
   "cell_type": "markdown",
   "metadata": {},
   "source": [
    "# Project 3"
   ]
  },
  {
   "cell_type": "markdown",
   "metadata": {},
   "source": [
    "### Data"
   ]
  },
  {
   "cell_type": "code",
   "execution_count": 1,
   "metadata": {},
   "outputs": [],
   "source": [
    "# Import libraries\n",
    "import pandas as pd\n",
    "import numpy as np\n",
    "import sys\n",
    "\n",
    "import sqlite3\n"
   ]
  },
  {
   "source": [
    "### 1. Load data from sqlite"
   ],
   "cell_type": "markdown",
   "metadata": {}
  },
  {
   "cell_type": "code",
   "execution_count": 2,
   "metadata": {},
   "outputs": [
    {
     "output_type": "execute_result",
     "data": {
      "text/plain": [
       "     FirstName    LastName                                               Name  \\\n",
       "0      Roberto     Almeida                            Right Next Door to Hell   \n",
       "1      Roberto     Almeida                                     In The Evening   \n",
       "2      Roberto     Almeida                                   Fool In The Rain   \n",
       "3      Roberto     Almeida  Saudade Dos Aviões Da Panair (Conversando No Bar)   \n",
       "4      Roberto     Almeida                             Caso Você Queira Saber   \n",
       "...        ...         ...                                                ...   \n",
       "2235      Fynn  Zimmermann                                    Nothin' To Lose   \n",
       "2236      Fynn  Zimmermann                         Since I've Been Loving You   \n",
       "2237      Fynn  Zimmermann                                Going To California   \n",
       "2238      Fynn  Zimmermann                                 We're Gonna Groove   \n",
       "2239      Fynn  Zimmermann                                         Ozone Baby   \n",
       "\n",
       "                             Title  \n",
       "0              Use Your Illusion I  \n",
       "1          In Through The Out Door  \n",
       "2          In Through The Out Door  \n",
       "3                            Minas  \n",
       "4                            Minas  \n",
       "...                            ...  \n",
       "2235              Unplugged [Live]  \n",
       "2236  BBC Sessions [Disc 2] [Live]  \n",
       "2237  BBC Sessions [Disc 2] [Live]  \n",
       "2238                          Coda  \n",
       "2239                          Coda  \n",
       "\n",
       "[2240 rows x 4 columns]"
      ],
      "text/html": "<div>\n<style scoped>\n    .dataframe tbody tr th:only-of-type {\n        vertical-align: middle;\n    }\n\n    .dataframe tbody tr th {\n        vertical-align: top;\n    }\n\n    .dataframe thead th {\n        text-align: right;\n    }\n</style>\n<table border=\"1\" class=\"dataframe\">\n  <thead>\n    <tr style=\"text-align: right;\">\n      <th></th>\n      <th>FirstName</th>\n      <th>LastName</th>\n      <th>Name</th>\n      <th>Title</th>\n    </tr>\n  </thead>\n  <tbody>\n    <tr>\n      <td>0</td>\n      <td>Roberto</td>\n      <td>Almeida</td>\n      <td>Right Next Door to Hell</td>\n      <td>Use Your Illusion I</td>\n    </tr>\n    <tr>\n      <td>1</td>\n      <td>Roberto</td>\n      <td>Almeida</td>\n      <td>In The Evening</td>\n      <td>In Through The Out Door</td>\n    </tr>\n    <tr>\n      <td>2</td>\n      <td>Roberto</td>\n      <td>Almeida</td>\n      <td>Fool In The Rain</td>\n      <td>In Through The Out Door</td>\n    </tr>\n    <tr>\n      <td>3</td>\n      <td>Roberto</td>\n      <td>Almeida</td>\n      <td>Saudade Dos Aviões Da Panair (Conversando No Bar)</td>\n      <td>Minas</td>\n    </tr>\n    <tr>\n      <td>4</td>\n      <td>Roberto</td>\n      <td>Almeida</td>\n      <td>Caso Você Queira Saber</td>\n      <td>Minas</td>\n    </tr>\n    <tr>\n      <td>...</td>\n      <td>...</td>\n      <td>...</td>\n      <td>...</td>\n      <td>...</td>\n    </tr>\n    <tr>\n      <td>2235</td>\n      <td>Fynn</td>\n      <td>Zimmermann</td>\n      <td>Nothin' To Lose</td>\n      <td>Unplugged [Live]</td>\n    </tr>\n    <tr>\n      <td>2236</td>\n      <td>Fynn</td>\n      <td>Zimmermann</td>\n      <td>Since I've Been Loving You</td>\n      <td>BBC Sessions [Disc 2] [Live]</td>\n    </tr>\n    <tr>\n      <td>2237</td>\n      <td>Fynn</td>\n      <td>Zimmermann</td>\n      <td>Going To California</td>\n      <td>BBC Sessions [Disc 2] [Live]</td>\n    </tr>\n    <tr>\n      <td>2238</td>\n      <td>Fynn</td>\n      <td>Zimmermann</td>\n      <td>We're Gonna Groove</td>\n      <td>Coda</td>\n    </tr>\n    <tr>\n      <td>2239</td>\n      <td>Fynn</td>\n      <td>Zimmermann</td>\n      <td>Ozone Baby</td>\n      <td>Coda</td>\n    </tr>\n  </tbody>\n</table>\n<p>2240 rows × 4 columns</p>\n</div>"
     },
     "metadata": {},
     "execution_count": 2
    }
   ],
   "source": [
    "# Create a SQL connection to our SQLite database\n",
    "con = sqlite3.connect(\"Chinook_Sqlite.sqlite\")\n",
    "\n",
    "\n",
    "query = '''SELECT C.FirstName, C.LastName, T.Name, A.Title\n",
    "            FROM Customer C\n",
    "            join Invoice I on C.CustomerId = I.CustomerId\n",
    "            join InvoiceLine IL on IL.InvoiceId = I.InvoiceId\n",
    "            join Track T on T.TrackId = IL.TrackId\n",
    "            join Album A on A.AlbumId = T.AlbumId\n",
    "            order by LastName, FirstName\n",
    "            ;'''\n",
    "df = pd.read_sql_query(query, con)\n",
    "\n",
    "df"
   ]
  },
  {
   "cell_type": "code",
   "execution_count": null,
   "metadata": {},
   "outputs": [],
   "source": []
  }
 ],
 "metadata": {
  "kernelspec": {
   "display_name": "Python 3",
   "language": "python",
   "name": "python3"
  },
  "language_info": {
   "codemirror_mode": {
    "name": "ipython",
    "version": 3
   },
   "file_extension": ".py",
   "mimetype": "text/x-python",
   "name": "python",
   "nbconvert_exporter": "python",
   "pygments_lexer": "ipython3",
   "version": "3.7.4-final"
  }
 },
 "nbformat": 4,
 "nbformat_minor": 2
}