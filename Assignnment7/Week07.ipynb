{
 "cells": [
  {
   "cell_type": "markdown",
   "metadata": {},
   "source": [
    "# Assigment 7"
   ]
  },
  {
   "cell_type": "markdown",
   "metadata": {},
   "source": [
    "### Data"
   ]
  },
  {
   "cell_type": "code",
   "execution_count": 5,
   "metadata": {},
   "outputs": [],
   "source": [
    "# Import libraries\n",
    "import pandas as pd\n",
    "import sys"
   ]
  },
  {
   "source": [
    "### 1. Load the ratings by user information that you collected into a pandas dataframe."
   ],
   "cell_type": "markdown",
   "metadata": {}
  },
  {
   "cell_type": "code",
   "execution_count": 6,
   "metadata": {},
   "outputs": [
    {
     "output_type": "execute_result",
     "data": {
      "text/plain": [
       "        user        movie  rate\n",
       "0     Julian  Martin Eden     5\n",
       "1     Julian    City Hall     4\n",
       "2     Julian        Gunda     4\n",
       "3     Julian    First Cow     1\n",
       "4     Julian   Collective     3\n",
       "5      Mason    City Hall     5\n",
       "6      Mason        Gunda     3\n",
       "7      Mason    First Cow     2\n",
       "8     Evelyn    City Hall     5\n",
       "9     Evelyn      Bacurau     4\n",
       "10    Evelyn    First Cow     3\n",
       "11    Evelyn   Collective     4\n",
       "12  Scarlett  Martin Eden     3\n",
       "13  Scarlett    City Hall     5\n",
       "14  Scarlett        Gunda     2\n",
       "15     Ellie      Bacurau     4\n",
       "16     Ellie    First Cow     3\n",
       "17     Ellie   Collective     5"
      ],
      "text/html": "<div>\n<style scoped>\n    .dataframe tbody tr th:only-of-type {\n        vertical-align: middle;\n    }\n\n    .dataframe tbody tr th {\n        vertical-align: top;\n    }\n\n    .dataframe thead th {\n        text-align: right;\n    }\n</style>\n<table border=\"1\" class=\"dataframe\">\n  <thead>\n    <tr style=\"text-align: right;\">\n      <th></th>\n      <th>user</th>\n      <th>movie</th>\n      <th>rate</th>\n    </tr>\n  </thead>\n  <tbody>\n    <tr>\n      <td>0</td>\n      <td>Julian</td>\n      <td>Martin Eden</td>\n      <td>5</td>\n    </tr>\n    <tr>\n      <td>1</td>\n      <td>Julian</td>\n      <td>City Hall</td>\n      <td>4</td>\n    </tr>\n    <tr>\n      <td>2</td>\n      <td>Julian</td>\n      <td>Gunda</td>\n      <td>4</td>\n    </tr>\n    <tr>\n      <td>3</td>\n      <td>Julian</td>\n      <td>First Cow</td>\n      <td>1</td>\n    </tr>\n    <tr>\n      <td>4</td>\n      <td>Julian</td>\n      <td>Collective</td>\n      <td>3</td>\n    </tr>\n    <tr>\n      <td>5</td>\n      <td>Mason</td>\n      <td>City Hall</td>\n      <td>5</td>\n    </tr>\n    <tr>\n      <td>6</td>\n      <td>Mason</td>\n      <td>Gunda</td>\n      <td>3</td>\n    </tr>\n    <tr>\n      <td>7</td>\n      <td>Mason</td>\n      <td>First Cow</td>\n      <td>2</td>\n    </tr>\n    <tr>\n      <td>8</td>\n      <td>Evelyn</td>\n      <td>City Hall</td>\n      <td>5</td>\n    </tr>\n    <tr>\n      <td>9</td>\n      <td>Evelyn</td>\n      <td>Bacurau</td>\n      <td>4</td>\n    </tr>\n    <tr>\n      <td>10</td>\n      <td>Evelyn</td>\n      <td>First Cow</td>\n      <td>3</td>\n    </tr>\n    <tr>\n      <td>11</td>\n      <td>Evelyn</td>\n      <td>Collective</td>\n      <td>4</td>\n    </tr>\n    <tr>\n      <td>12</td>\n      <td>Scarlett</td>\n      <td>Martin Eden</td>\n      <td>3</td>\n    </tr>\n    <tr>\n      <td>13</td>\n      <td>Scarlett</td>\n      <td>City Hall</td>\n      <td>5</td>\n    </tr>\n    <tr>\n      <td>14</td>\n      <td>Scarlett</td>\n      <td>Gunda</td>\n      <td>2</td>\n    </tr>\n    <tr>\n      <td>15</td>\n      <td>Ellie</td>\n      <td>Bacurau</td>\n      <td>4</td>\n    </tr>\n    <tr>\n      <td>16</td>\n      <td>Ellie</td>\n      <td>First Cow</td>\n      <td>3</td>\n    </tr>\n    <tr>\n      <td>17</td>\n      <td>Ellie</td>\n      <td>Collective</td>\n      <td>5</td>\n    </tr>\n  </tbody>\n</table>\n</div>"
     },
     "metadata": {},
     "execution_count": 6
    }
   ],
   "source": [
    "\n",
    "df = pd.read_csv('./movies.csv')\n",
    "    \n",
    "df"
   ]
  },
  {
   "cell_type": "markdown",
   "metadata": {},
   "source": [
    "### 2. Show the average ratings for each user and each movie."
   ]
  },
  {
   "cell_type": "code",
   "execution_count": 7,
   "metadata": {},
   "outputs": [
    {
     "output_type": "execute_result",
     "data": {
      "text/plain": [
       "              rate\n",
       "user              \n",
       "Ellie     4.000000\n",
       "Evelyn    4.000000\n",
       "Julian    3.400000\n",
       "Mason     3.333333\n",
       "Scarlett  3.333333"
      ],
      "text/html": "<div>\n<style scoped>\n    .dataframe tbody tr th:only-of-type {\n        vertical-align: middle;\n    }\n\n    .dataframe tbody tr th {\n        vertical-align: top;\n    }\n\n    .dataframe thead th {\n        text-align: right;\n    }\n</style>\n<table border=\"1\" class=\"dataframe\">\n  <thead>\n    <tr style=\"text-align: right;\">\n      <th></th>\n      <th>rate</th>\n    </tr>\n    <tr>\n      <th>user</th>\n      <th></th>\n    </tr>\n  </thead>\n  <tbody>\n    <tr>\n      <td>Ellie</td>\n      <td>4.000000</td>\n    </tr>\n    <tr>\n      <td>Evelyn</td>\n      <td>4.000000</td>\n    </tr>\n    <tr>\n      <td>Julian</td>\n      <td>3.400000</td>\n    </tr>\n    <tr>\n      <td>Mason</td>\n      <td>3.333333</td>\n    </tr>\n    <tr>\n      <td>Scarlett</td>\n      <td>3.333333</td>\n    </tr>\n  </tbody>\n</table>\n</div>"
     },
     "metadata": {},
     "execution_count": 7
    }
   ],
   "source": [
    "# average ratings by user\n",
    "df.groupby('user').mean()"
   ]
  },
  {
   "cell_type": "code",
   "execution_count": 8,
   "metadata": {},
   "outputs": [
    {
     "output_type": "execute_result",
     "data": {
      "text/plain": [
       "             rate\n",
       "movie            \n",
       "Bacurau      4.00\n",
       "City Hall    4.75\n",
       "Collective   4.00\n",
       "First Cow    2.25\n",
       "Gunda        3.00\n",
       "Martin Eden  4.00"
      ],
      "text/html": "<div>\n<style scoped>\n    .dataframe tbody tr th:only-of-type {\n        vertical-align: middle;\n    }\n\n    .dataframe tbody tr th {\n        vertical-align: top;\n    }\n\n    .dataframe thead th {\n        text-align: right;\n    }\n</style>\n<table border=\"1\" class=\"dataframe\">\n  <thead>\n    <tr style=\"text-align: right;\">\n      <th></th>\n      <th>rate</th>\n    </tr>\n    <tr>\n      <th>movie</th>\n      <th></th>\n    </tr>\n  </thead>\n  <tbody>\n    <tr>\n      <td>Bacurau</td>\n      <td>4.00</td>\n    </tr>\n    <tr>\n      <td>City Hall</td>\n      <td>4.75</td>\n    </tr>\n    <tr>\n      <td>Collective</td>\n      <td>4.00</td>\n    </tr>\n    <tr>\n      <td>First Cow</td>\n      <td>2.25</td>\n    </tr>\n    <tr>\n      <td>Gunda</td>\n      <td>3.00</td>\n    </tr>\n    <tr>\n      <td>Martin Eden</td>\n      <td>4.00</td>\n    </tr>\n  </tbody>\n</table>\n</div>"
     },
     "metadata": {},
     "execution_count": 8
    }
   ],
   "source": [
    "# average ratings by movie\n",
    "df.groupby('movie').mean()"
   ]
  },
  {
   "source": [
    "### 3. Create a new pandas dataframe, with normalized ratings for each user. Again, show the average ratings for each user and each movie.\n",
    "\n",
    "#### Normalization\n",
    "$$ x_{new} = \\frac{x - x_{min}}{x_{max} - x_{min}} $$\n"
   ],
   "cell_type": "markdown",
   "metadata": {}
  },
  {
   "cell_type": "code",
   "execution_count": 9,
   "metadata": {},
   "outputs": [
    {
     "output_type": "execute_result",
     "data": {
      "text/plain": [
       "        user        movie  rate  normalized_rating\n",
       "0     Julian  Martin Eden     5               1.00\n",
       "1     Julian    City Hall     4               0.75\n",
       "2     Julian        Gunda     4               0.75\n",
       "3     Julian    First Cow     1               0.00\n",
       "4     Julian   Collective     3               0.50\n",
       "5      Mason    City Hall     5               1.00\n",
       "6      Mason        Gunda     3               0.50\n",
       "7      Mason    First Cow     2               0.25\n",
       "8     Evelyn    City Hall     5               1.00\n",
       "9     Evelyn      Bacurau     4               0.75\n",
       "10    Evelyn    First Cow     3               0.50\n",
       "11    Evelyn   Collective     4               0.75\n",
       "12  Scarlett  Martin Eden     3               0.50\n",
       "13  Scarlett    City Hall     5               1.00\n",
       "14  Scarlett        Gunda     2               0.25\n",
       "15     Ellie      Bacurau     4               0.75\n",
       "16     Ellie    First Cow     3               0.50\n",
       "17     Ellie   Collective     5               1.00"
      ],
      "text/html": "<div>\n<style scoped>\n    .dataframe tbody tr th:only-of-type {\n        vertical-align: middle;\n    }\n\n    .dataframe tbody tr th {\n        vertical-align: top;\n    }\n\n    .dataframe thead th {\n        text-align: right;\n    }\n</style>\n<table border=\"1\" class=\"dataframe\">\n  <thead>\n    <tr style=\"text-align: right;\">\n      <th></th>\n      <th>user</th>\n      <th>movie</th>\n      <th>rate</th>\n      <th>normalized_rating</th>\n    </tr>\n  </thead>\n  <tbody>\n    <tr>\n      <td>0</td>\n      <td>Julian</td>\n      <td>Martin Eden</td>\n      <td>5</td>\n      <td>1.00</td>\n    </tr>\n    <tr>\n      <td>1</td>\n      <td>Julian</td>\n      <td>City Hall</td>\n      <td>4</td>\n      <td>0.75</td>\n    </tr>\n    <tr>\n      <td>2</td>\n      <td>Julian</td>\n      <td>Gunda</td>\n      <td>4</td>\n      <td>0.75</td>\n    </tr>\n    <tr>\n      <td>3</td>\n      <td>Julian</td>\n      <td>First Cow</td>\n      <td>1</td>\n      <td>0.00</td>\n    </tr>\n    <tr>\n      <td>4</td>\n      <td>Julian</td>\n      <td>Collective</td>\n      <td>3</td>\n      <td>0.50</td>\n    </tr>\n    <tr>\n      <td>5</td>\n      <td>Mason</td>\n      <td>City Hall</td>\n      <td>5</td>\n      <td>1.00</td>\n    </tr>\n    <tr>\n      <td>6</td>\n      <td>Mason</td>\n      <td>Gunda</td>\n      <td>3</td>\n      <td>0.50</td>\n    </tr>\n    <tr>\n      <td>7</td>\n      <td>Mason</td>\n      <td>First Cow</td>\n      <td>2</td>\n      <td>0.25</td>\n    </tr>\n    <tr>\n      <td>8</td>\n      <td>Evelyn</td>\n      <td>City Hall</td>\n      <td>5</td>\n      <td>1.00</td>\n    </tr>\n    <tr>\n      <td>9</td>\n      <td>Evelyn</td>\n      <td>Bacurau</td>\n      <td>4</td>\n      <td>0.75</td>\n    </tr>\n    <tr>\n      <td>10</td>\n      <td>Evelyn</td>\n      <td>First Cow</td>\n      <td>3</td>\n      <td>0.50</td>\n    </tr>\n    <tr>\n      <td>11</td>\n      <td>Evelyn</td>\n      <td>Collective</td>\n      <td>4</td>\n      <td>0.75</td>\n    </tr>\n    <tr>\n      <td>12</td>\n      <td>Scarlett</td>\n      <td>Martin Eden</td>\n      <td>3</td>\n      <td>0.50</td>\n    </tr>\n    <tr>\n      <td>13</td>\n      <td>Scarlett</td>\n      <td>City Hall</td>\n      <td>5</td>\n      <td>1.00</td>\n    </tr>\n    <tr>\n      <td>14</td>\n      <td>Scarlett</td>\n      <td>Gunda</td>\n      <td>2</td>\n      <td>0.25</td>\n    </tr>\n    <tr>\n      <td>15</td>\n      <td>Ellie</td>\n      <td>Bacurau</td>\n      <td>4</td>\n      <td>0.75</td>\n    </tr>\n    <tr>\n      <td>16</td>\n      <td>Ellie</td>\n      <td>First Cow</td>\n      <td>3</td>\n      <td>0.50</td>\n    </tr>\n    <tr>\n      <td>17</td>\n      <td>Ellie</td>\n      <td>Collective</td>\n      <td>5</td>\n      <td>1.00</td>\n    </tr>\n  </tbody>\n</table>\n</div>"
     },
     "metadata": {},
     "execution_count": 9
    }
   ],
   "source": [
    "\n",
    "df['normalized_rating'] = (df['rate']-df['rate'].min())/(df['rate'].max()-df['rate'].min())\n",
    "df"
   ]
  },
  {
   "cell_type": "code",
   "execution_count": 10,
   "metadata": {},
   "outputs": [
    {
     "output_type": "execute_result",
     "data": {
      "text/plain": [
       "              rate  normalized_rating\n",
       "user                                 \n",
       "Ellie     4.000000           0.750000\n",
       "Evelyn    4.000000           0.750000\n",
       "Julian    3.400000           0.600000\n",
       "Mason     3.333333           0.583333\n",
       "Scarlett  3.333333           0.583333"
      ],
      "text/html": "<div>\n<style scoped>\n    .dataframe tbody tr th:only-of-type {\n        vertical-align: middle;\n    }\n\n    .dataframe tbody tr th {\n        vertical-align: top;\n    }\n\n    .dataframe thead th {\n        text-align: right;\n    }\n</style>\n<table border=\"1\" class=\"dataframe\">\n  <thead>\n    <tr style=\"text-align: right;\">\n      <th></th>\n      <th>rate</th>\n      <th>normalized_rating</th>\n    </tr>\n    <tr>\n      <th>user</th>\n      <th></th>\n      <th></th>\n    </tr>\n  </thead>\n  <tbody>\n    <tr>\n      <td>Ellie</td>\n      <td>4.000000</td>\n      <td>0.750000</td>\n    </tr>\n    <tr>\n      <td>Evelyn</td>\n      <td>4.000000</td>\n      <td>0.750000</td>\n    </tr>\n    <tr>\n      <td>Julian</td>\n      <td>3.400000</td>\n      <td>0.600000</td>\n    </tr>\n    <tr>\n      <td>Mason</td>\n      <td>3.333333</td>\n      <td>0.583333</td>\n    </tr>\n    <tr>\n      <td>Scarlett</td>\n      <td>3.333333</td>\n      <td>0.583333</td>\n    </tr>\n  </tbody>\n</table>\n</div>"
     },
     "metadata": {},
     "execution_count": 10
    }
   ],
   "source": [
    "# average ratings by user\n",
    "df.groupby('user').mean()"
   ]
  },
  {
   "cell_type": "code",
   "execution_count": 11,
   "metadata": {},
   "outputs": [
    {
     "output_type": "execute_result",
     "data": {
      "text/plain": [
       "             rate  normalized_rating\n",
       "movie                               \n",
       "Bacurau      4.00             0.7500\n",
       "City Hall    4.75             0.9375\n",
       "Collective   4.00             0.7500\n",
       "First Cow    2.25             0.3125\n",
       "Gunda        3.00             0.5000\n",
       "Martin Eden  4.00             0.7500"
      ],
      "text/html": "<div>\n<style scoped>\n    .dataframe tbody tr th:only-of-type {\n        vertical-align: middle;\n    }\n\n    .dataframe tbody tr th {\n        vertical-align: top;\n    }\n\n    .dataframe thead th {\n        text-align: right;\n    }\n</style>\n<table border=\"1\" class=\"dataframe\">\n  <thead>\n    <tr style=\"text-align: right;\">\n      <th></th>\n      <th>rate</th>\n      <th>normalized_rating</th>\n    </tr>\n    <tr>\n      <th>movie</th>\n      <th></th>\n      <th></th>\n    </tr>\n  </thead>\n  <tbody>\n    <tr>\n      <td>Bacurau</td>\n      <td>4.00</td>\n      <td>0.7500</td>\n    </tr>\n    <tr>\n      <td>City Hall</td>\n      <td>4.75</td>\n      <td>0.9375</td>\n    </tr>\n    <tr>\n      <td>Collective</td>\n      <td>4.00</td>\n      <td>0.7500</td>\n    </tr>\n    <tr>\n      <td>First Cow</td>\n      <td>2.25</td>\n      <td>0.3125</td>\n    </tr>\n    <tr>\n      <td>Gunda</td>\n      <td>3.00</td>\n      <td>0.5000</td>\n    </tr>\n    <tr>\n      <td>Martin Eden</td>\n      <td>4.00</td>\n      <td>0.7500</td>\n    </tr>\n  </tbody>\n</table>\n</div>"
     },
     "metadata": {},
     "execution_count": 11
    }
   ],
   "source": [
    "# average ratings by movie\n",
    "df.groupby('movie').mean()"
   ]
  },
  {
   "source": [
    "### 4. Provide a text-based conclusion: explain what might be advantages and disadvantages of using normalized ratings instead of the actual ratings.\n",
    "\n",
    "The use of standard classifications allows working with a reduced range of values, which makes it more efficient.\n",
    "When it comes to measurements that have different units and scales, normalization is very useful for further processing. This is not the case, but it is important to keep it in mind.\n",
    "\n",
    "A disadvantage could be that it requires prior data processing and preparation.\n",
    "Another could be if you have outliers in your data set, this scales the data to a very small interval. "
   ],
   "cell_type": "markdown",
   "metadata": {}
  },
  {
   "source": [
    "### 5. [Extra credit] Create another new pandas dataframe, with standardized ratings for each user. Once again, show the average ratings for each user and each movie.\n",
    "\n",
    "\n",
    "#### Standardization\n",
    "$$ x_{new} = \\frac{x - \\mu}{\\sigma} $$"
   ],
   "cell_type": "markdown",
   "metadata": {}
  },
  {
   "cell_type": "code",
   "execution_count": 12,
   "metadata": {},
   "outputs": [
    {
     "output_type": "execute_result",
     "data": {
      "text/plain": [
       "        user        movie  rate  normalized_rating\n",
       "0     Julian  Martin Eden     5           1.162218\n",
       "1     Julian    City Hall     4           0.325421\n",
       "2     Julian        Gunda     4           0.325421\n",
       "3     Julian    First Cow     1          -2.184969\n",
       "4     Julian   Collective     3          -0.511376\n",
       "5      Mason    City Hall     5           1.162218\n",
       "6      Mason        Gunda     3          -0.511376\n",
       "7      Mason    First Cow     2          -1.348173\n",
       "8     Evelyn    City Hall     5           1.162218\n",
       "9     Evelyn      Bacurau     4           0.325421\n",
       "10    Evelyn    First Cow     3          -0.511376\n",
       "11    Evelyn   Collective     4           0.325421\n",
       "12  Scarlett  Martin Eden     3          -0.511376\n",
       "13  Scarlett    City Hall     5           1.162218\n",
       "14  Scarlett        Gunda     2          -1.348173\n",
       "15     Ellie      Bacurau     4           0.325421\n",
       "16     Ellie    First Cow     3          -0.511376\n",
       "17     Ellie   Collective     5           1.162218"
      ],
      "text/html": "<div>\n<style scoped>\n    .dataframe tbody tr th:only-of-type {\n        vertical-align: middle;\n    }\n\n    .dataframe tbody tr th {\n        vertical-align: top;\n    }\n\n    .dataframe thead th {\n        text-align: right;\n    }\n</style>\n<table border=\"1\" class=\"dataframe\">\n  <thead>\n    <tr style=\"text-align: right;\">\n      <th></th>\n      <th>user</th>\n      <th>movie</th>\n      <th>rate</th>\n      <th>normalized_rating</th>\n    </tr>\n  </thead>\n  <tbody>\n    <tr>\n      <td>0</td>\n      <td>Julian</td>\n      <td>Martin Eden</td>\n      <td>5</td>\n      <td>1.162218</td>\n    </tr>\n    <tr>\n      <td>1</td>\n      <td>Julian</td>\n      <td>City Hall</td>\n      <td>4</td>\n      <td>0.325421</td>\n    </tr>\n    <tr>\n      <td>2</td>\n      <td>Julian</td>\n      <td>Gunda</td>\n      <td>4</td>\n      <td>0.325421</td>\n    </tr>\n    <tr>\n      <td>3</td>\n      <td>Julian</td>\n      <td>First Cow</td>\n      <td>1</td>\n      <td>-2.184969</td>\n    </tr>\n    <tr>\n      <td>4</td>\n      <td>Julian</td>\n      <td>Collective</td>\n      <td>3</td>\n      <td>-0.511376</td>\n    </tr>\n    <tr>\n      <td>5</td>\n      <td>Mason</td>\n      <td>City Hall</td>\n      <td>5</td>\n      <td>1.162218</td>\n    </tr>\n    <tr>\n      <td>6</td>\n      <td>Mason</td>\n      <td>Gunda</td>\n      <td>3</td>\n      <td>-0.511376</td>\n    </tr>\n    <tr>\n      <td>7</td>\n      <td>Mason</td>\n      <td>First Cow</td>\n      <td>2</td>\n      <td>-1.348173</td>\n    </tr>\n    <tr>\n      <td>8</td>\n      <td>Evelyn</td>\n      <td>City Hall</td>\n      <td>5</td>\n      <td>1.162218</td>\n    </tr>\n    <tr>\n      <td>9</td>\n      <td>Evelyn</td>\n      <td>Bacurau</td>\n      <td>4</td>\n      <td>0.325421</td>\n    </tr>\n    <tr>\n      <td>10</td>\n      <td>Evelyn</td>\n      <td>First Cow</td>\n      <td>3</td>\n      <td>-0.511376</td>\n    </tr>\n    <tr>\n      <td>11</td>\n      <td>Evelyn</td>\n      <td>Collective</td>\n      <td>4</td>\n      <td>0.325421</td>\n    </tr>\n    <tr>\n      <td>12</td>\n      <td>Scarlett</td>\n      <td>Martin Eden</td>\n      <td>3</td>\n      <td>-0.511376</td>\n    </tr>\n    <tr>\n      <td>13</td>\n      <td>Scarlett</td>\n      <td>City Hall</td>\n      <td>5</td>\n      <td>1.162218</td>\n    </tr>\n    <tr>\n      <td>14</td>\n      <td>Scarlett</td>\n      <td>Gunda</td>\n      <td>2</td>\n      <td>-1.348173</td>\n    </tr>\n    <tr>\n      <td>15</td>\n      <td>Ellie</td>\n      <td>Bacurau</td>\n      <td>4</td>\n      <td>0.325421</td>\n    </tr>\n    <tr>\n      <td>16</td>\n      <td>Ellie</td>\n      <td>First Cow</td>\n      <td>3</td>\n      <td>-0.511376</td>\n    </tr>\n    <tr>\n      <td>17</td>\n      <td>Ellie</td>\n      <td>Collective</td>\n      <td>5</td>\n      <td>1.162218</td>\n    </tr>\n  </tbody>\n</table>\n</div>"
     },
     "metadata": {},
     "execution_count": 12
    }
   ],
   "source": [
    "\n",
    "df_2 = pd.read_csv('./movies.csv')\n",
    "    \n",
    "\n",
    "df_2['normalized_rating'] = (df_2['rate']-df_2['rate'].mean())/df_2['rate'].std()\n",
    "df_2"
   ]
  },
  {
   "cell_type": "code",
   "execution_count": 13,
   "metadata": {},
   "outputs": [
    {
     "output_type": "execute_result",
     "data": {
      "text/plain": [
       "              rate  normalized_rating\n",
       "user                                 \n",
       "Ellie     4.000000           0.325421\n",
       "Evelyn    4.000000           0.325421\n",
       "Julian    3.400000          -0.176657\n",
       "Mason     3.333333          -0.232444\n",
       "Scarlett  3.333333          -0.232444"
      ],
      "text/html": "<div>\n<style scoped>\n    .dataframe tbody tr th:only-of-type {\n        vertical-align: middle;\n    }\n\n    .dataframe tbody tr th {\n        vertical-align: top;\n    }\n\n    .dataframe thead th {\n        text-align: right;\n    }\n</style>\n<table border=\"1\" class=\"dataframe\">\n  <thead>\n    <tr style=\"text-align: right;\">\n      <th></th>\n      <th>rate</th>\n      <th>normalized_rating</th>\n    </tr>\n    <tr>\n      <th>user</th>\n      <th></th>\n      <th></th>\n    </tr>\n  </thead>\n  <tbody>\n    <tr>\n      <td>Ellie</td>\n      <td>4.000000</td>\n      <td>0.325421</td>\n    </tr>\n    <tr>\n      <td>Evelyn</td>\n      <td>4.000000</td>\n      <td>0.325421</td>\n    </tr>\n    <tr>\n      <td>Julian</td>\n      <td>3.400000</td>\n      <td>-0.176657</td>\n    </tr>\n    <tr>\n      <td>Mason</td>\n      <td>3.333333</td>\n      <td>-0.232444</td>\n    </tr>\n    <tr>\n      <td>Scarlett</td>\n      <td>3.333333</td>\n      <td>-0.232444</td>\n    </tr>\n  </tbody>\n</table>\n</div>"
     },
     "metadata": {},
     "execution_count": 13
    }
   ],
   "source": [
    "# average ratings by user\n",
    "df_2.groupby('user').mean()"
   ]
  },
  {
   "cell_type": "code",
   "execution_count": 14,
   "metadata": {},
   "outputs": [
    {
     "output_type": "execute_result",
     "data": {
      "text/plain": [
       "             rate  normalized_rating\n",
       "movie                               \n",
       "Bacurau      4.00           0.325421\n",
       "City Hall    4.75           0.953019\n",
       "Collective   4.00           0.325421\n",
       "First Cow    2.25          -1.138973\n",
       "Gunda        3.00          -0.511376\n",
       "Martin Eden  4.00           0.325421"
      ],
      "text/html": "<div>\n<style scoped>\n    .dataframe tbody tr th:only-of-type {\n        vertical-align: middle;\n    }\n\n    .dataframe tbody tr th {\n        vertical-align: top;\n    }\n\n    .dataframe thead th {\n        text-align: right;\n    }\n</style>\n<table border=\"1\" class=\"dataframe\">\n  <thead>\n    <tr style=\"text-align: right;\">\n      <th></th>\n      <th>rate</th>\n      <th>normalized_rating</th>\n    </tr>\n    <tr>\n      <th>movie</th>\n      <th></th>\n      <th></th>\n    </tr>\n  </thead>\n  <tbody>\n    <tr>\n      <td>Bacurau</td>\n      <td>4.00</td>\n      <td>0.325421</td>\n    </tr>\n    <tr>\n      <td>City Hall</td>\n      <td>4.75</td>\n      <td>0.953019</td>\n    </tr>\n    <tr>\n      <td>Collective</td>\n      <td>4.00</td>\n      <td>0.325421</td>\n    </tr>\n    <tr>\n      <td>First Cow</td>\n      <td>2.25</td>\n      <td>-1.138973</td>\n    </tr>\n    <tr>\n      <td>Gunda</td>\n      <td>3.00</td>\n      <td>-0.511376</td>\n    </tr>\n    <tr>\n      <td>Martin Eden</td>\n      <td>4.00</td>\n      <td>0.325421</td>\n    </tr>\n  </tbody>\n</table>\n</div>"
     },
     "metadata": {},
     "execution_count": 14
    }
   ],
   "source": [
    "# average ratings by movie\n",
    "df_2.groupby('movie').mean()"
   ]
  },
  {
   "cell_type": "code",
   "execution_count": null,
   "metadata": {},
   "outputs": [],
   "source": []
  },
  {
   "cell_type": "code",
   "execution_count": null,
   "metadata": {},
   "outputs": [],
   "source": []
  }
 ],
 "metadata": {
  "kernelspec": {
   "display_name": "Python 3",
   "language": "python",
   "name": "python3"
  },
  "language_info": {
   "codemirror_mode": {
    "name": "ipython",
    "version": 3
   },
   "file_extension": ".py",
   "mimetype": "text/x-python",
   "name": "python",
   "nbconvert_exporter": "python",
   "pygments_lexer": "ipython3",
   "version": "3.7.4-final"
  }
 },
 "nbformat": 4,
 "nbformat_minor": 2
}