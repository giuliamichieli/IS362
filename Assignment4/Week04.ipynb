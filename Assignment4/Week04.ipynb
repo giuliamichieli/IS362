{
 "cells": [
  {
   "cell_type": "markdown",
   "metadata": {},
   "source": [
    "# Assignment 4"
   ]
  },
  {
   "cell_type": "markdown",
   "metadata": {},
   "source": [
    "### Data"
   ]
  },
  {
   "cell_type": "code",
   "execution_count": 22,
   "metadata": {},
   "outputs": [],
   "source": [
    "# Import libraries\n",
    "import pandas as pd\n",
    "import sys"
   ]
  },
  {
   "cell_type": "code",
   "execution_count": 23,
   "metadata": {},
   "outputs": [
    {
     "output_type": "stream",
     "name": "stdout",
     "text": [
      "   airline    destination  on time  delayed\n0   ALASKA    Los Angeles      497       62\n1   ALASKA        Phoenix      221       12\n2   ALASKA      San Diego      212       20\n3   ALASKA  San Francisco      503      102\n4   ALASKA        Seattle     1841      305\n5  AM WEST    Los Angeles      694      117\n6  AM WEST        Phoenix     4840      415\n7  AM WEST      San Diego      383       65\n8  AM WEST  San Francisco      320      129\n9  AM WEST        Seattle      201       61\n"
     ]
    }
   ],
   "source": [
    "data = pd.read_csv('./data.csv')\n",
    "print(data)"
   ]
  },
  {
   "cell_type": "markdown",
   "metadata": {},
   "source": [
    "# Analysis"
   ]
  },
  {
   "source": [
    "## Higher percentage of delay"
   ],
   "cell_type": "markdown",
   "metadata": {}
  },
  {
   "cell_type": "code",
   "execution_count": 24,
   "metadata": {},
   "outputs": [
    {
     "output_type": "stream",
     "name": "stdout",
     "text": [
      "   airline    destination  on time  delayed  delay_percentage\n8  AM WEST  San Francisco      320      129          0.287305\n9  AM WEST        Seattle      201       61          0.232824\n3   ALASKA  San Francisco      503      102          0.168595\n7  AM WEST      San Diego      383       65          0.145089\n5  AM WEST    Los Angeles      694      117          0.144266\n4   ALASKA        Seattle     1841      305          0.142125\n0   ALASKA    Los Angeles      497       62          0.110912\n2   ALASKA      San Diego      212       20          0.086207\n6  AM WEST        Phoenix     4840      415          0.078972\n1   ALASKA        Phoenix      221       12          0.051502\n"
     ]
    }
   ],
   "source": [
    "data['delay_percentage'] = data['delayed']/(data['on time']+data['delayed'])\n",
    "print(data.sort_values(['delay_percentage'], ascending=False))"
   ]
  },
  {
   "cell_type": "markdown",
   "metadata": {},
   "source": [
    "desLooking at the delay percentage, we can see that San Francisco is in the top 3 regardless of the airline. We can say that this destination should improve the way they manage their flights to improve their performance."
   ]
  },
  {
   "source": [
    "## Delay by airline and destination\n",
    "\n",
    "We will apply a groupBy function on the DataFrame and analyze the percentage of delay."
   ],
   "cell_type": "markdown",
   "metadata": {}
  },
  {
   "cell_type": "code",
   "execution_count": 25,
   "metadata": {},
   "outputs": [
    {
     "output_type": "execute_result",
     "data": {
      "text/plain": [
       "         on time  delayed  delay_percentage\n",
       "airline                                    \n",
       "ALASKA      3274      501          0.132715\n",
       "AM WEST     6438      787          0.108927"
      ],
      "text/html": "<div>\n<style scoped>\n    .dataframe tbody tr th:only-of-type {\n        vertical-align: middle;\n    }\n\n    .dataframe tbody tr th {\n        vertical-align: top;\n    }\n\n    .dataframe thead th {\n        text-align: right;\n    }\n</style>\n<table border=\"1\" class=\"dataframe\">\n  <thead>\n    <tr style=\"text-align: right;\">\n      <th></th>\n      <th>on time</th>\n      <th>delayed</th>\n      <th>delay_percentage</th>\n    </tr>\n    <tr>\n      <th>airline</th>\n      <th></th>\n      <th></th>\n      <th></th>\n    </tr>\n  </thead>\n  <tbody>\n    <tr>\n      <td>ALASKA</td>\n      <td>3274</td>\n      <td>501</td>\n      <td>0.132715</td>\n    </tr>\n    <tr>\n      <td>AM WEST</td>\n      <td>6438</td>\n      <td>787</td>\n      <td>0.108927</td>\n    </tr>\n  </tbody>\n</table>\n</div>"
     },
     "metadata": {},
     "execution_count": 25
    }
   ],
   "source": [
    "df_by_airline = data.groupby('airline')[['on time', 'delayed']].sum()\n",
    "df_by_airline['delay_percentage'] = df_by_airline['delayed']/(df_by_airline['on time']+df_by_airline['delayed'])\n",
    "df_by_airline"
   ]
  },
  {
   "source": [
    "We can see that ALASKA has a bit more delay percentage, but the difference is not that big. We can also see that AM WEST has many more flights than ALASKA, and that can influence the analysis\n",
    "\n",
    "-----\n"
   ],
   "cell_type": "markdown",
   "metadata": {}
  },
  {
   "cell_type": "code",
   "execution_count": 26,
   "metadata": {},
   "outputs": [
    {
     "output_type": "execute_result",
     "data": {
      "text/plain": [
       "               on time  delayed  delay_percentage\n",
       "destination                                      \n",
       "Los Angeles       1191      179          0.130657\n",
       "Phoenix           5061      427          0.077806\n",
       "San Diego          595       85          0.125000\n",
       "San Francisco      823      231          0.219165\n",
       "Seattle           2042      366          0.151993"
      ],
      "text/html": "<div>\n<style scoped>\n    .dataframe tbody tr th:only-of-type {\n        vertical-align: middle;\n    }\n\n    .dataframe tbody tr th {\n        vertical-align: top;\n    }\n\n    .dataframe thead th {\n        text-align: right;\n    }\n</style>\n<table border=\"1\" class=\"dataframe\">\n  <thead>\n    <tr style=\"text-align: right;\">\n      <th></th>\n      <th>on time</th>\n      <th>delayed</th>\n      <th>delay_percentage</th>\n    </tr>\n    <tr>\n      <th>destination</th>\n      <th></th>\n      <th></th>\n      <th></th>\n    </tr>\n  </thead>\n  <tbody>\n    <tr>\n      <td>Los Angeles</td>\n      <td>1191</td>\n      <td>179</td>\n      <td>0.130657</td>\n    </tr>\n    <tr>\n      <td>Phoenix</td>\n      <td>5061</td>\n      <td>427</td>\n      <td>0.077806</td>\n    </tr>\n    <tr>\n      <td>San Diego</td>\n      <td>595</td>\n      <td>85</td>\n      <td>0.125000</td>\n    </tr>\n    <tr>\n      <td>San Francisco</td>\n      <td>823</td>\n      <td>231</td>\n      <td>0.219165</td>\n    </tr>\n    <tr>\n      <td>Seattle</td>\n      <td>2042</td>\n      <td>366</td>\n      <td>0.151993</td>\n    </tr>\n  </tbody>\n</table>\n</div>"
     },
     "metadata": {},
     "execution_count": 26
    }
   ],
   "source": [
    "df_by_destination = data.groupby('destination')[['on time', 'delayed']].sum()\n",
    "df_by_destination['delay_percentage'] = df_by_destination['delayed']/(df_by_destination['on time']+df_by_destination['delayed'])\n",
    "df_by_destination"
   ]
  },
  {
   "cell_type": "code",
   "execution_count": 27,
   "metadata": {},
   "outputs": [
    {
     "output_type": "stream",
     "name": "stdout",
     "text": [
      "               on time  delayed  delay_percentage\ndestination                                      \nSan Francisco      823      231          0.219165\nSeattle           2042      366          0.151993\nLos Angeles       1191      179          0.130657\nSan Diego          595       85          0.125000\nPhoenix           5061      427          0.077806\n"
     ]
    }
   ],
   "source": [
    "print(df_by_destination.sort_values(['delay_percentage'], ascending=False))"
   ]
  },
  {
   "source": [
    "On the other hand, if we look by destination, the difference between the one with the highest percentage of delay and the second is more significant than that of the airline."
   ],
   "cell_type": "markdown",
   "metadata": {}
  },
  {
   "cell_type": "code",
   "execution_count": null,
   "metadata": {},
   "outputs": [],
   "source": []
  }
 ],
 "metadata": {
  "kernelspec": {
   "display_name": "Python 3",
   "language": "python",
   "name": "python3"
  },
  "language_info": {
   "codemirror_mode": {
    "name": "ipython",
    "version": 3
   },
   "file_extension": ".py",
   "mimetype": "text/x-python",
   "name": "python",
   "nbconvert_exporter": "python",
   "pygments_lexer": "ipython3",
   "version": "3.7.4-final"
  }
 },
 "nbformat": 4,
 "nbformat_minor": 2
}