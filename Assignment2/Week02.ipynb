{
 "cells": [
  {
   "cell_type": "markdown",
   "metadata": {},
   "source": [
    "# List Comprehensions"
   ]
  },
  {
   "cell_type": "markdown",
   "metadata": {},
   "source": [
    "### List with square of the numbers 1 to 10"
   ]
  },
  {
   "cell_type": "code",
   "execution_count": 1,
   "metadata": {},
   "outputs": [
    {
     "name": "stdout",
     "output_type": "stream",
     "text": [
      "[0, 1, 4, 9, 16, 25, 36, 49, 64, 81, 100]\n"
     ]
    }
   ],
   "source": [
    "squares = [x**2 for x in range(11)]\n",
    "print(squares)"
   ]
  },
  {
   "cell_type": "markdown",
   "metadata": {},
   "source": [
    "### Filtering results. Squares between 50 and 100"
   ]
  },
  {
   "cell_type": "code",
   "execution_count": 2,
   "metadata": {},
   "outputs": [
    {
     "name": "stdout",
     "output_type": "stream",
     "text": [
      "[64, 81, 100]\n"
     ]
    }
   ],
   "source": [
    "squares_2 = [x**2 for x in range(11) if 50 <= x**2 <= 100]\n",
    "print(squares_2)"
   ]
  },
  {
   "cell_type": "markdown",
   "metadata": {},
   "source": [
    "### Create a 3x3  identity matrix "
   ]
  },
  {
   "cell_type": "code",
   "execution_count": 3,
   "metadata": {},
   "outputs": [
    {
     "name": "stdout",
     "output_type": "stream",
     "text": [
      "[[1, 0, 0], [0, 1, 0], [0, 0, 1]]\n"
     ]
    }
   ],
   "source": [
    "matrix = [[1 if x == y else 0 for x in range(0, 3)] for y in range(0, 3)]\n",
    "print(matrix)"
   ]
  },
  {
   "cell_type": "markdown",
   "metadata": {},
   "source": [
    "---\n",
    "\n",
    "# Dict Comprehensions"
   ]
  },
  {
   "cell_type": "markdown",
   "metadata": {},
   "source": [
    "### Squares dict"
   ]
  },
  {
   "cell_type": "code",
   "execution_count": 4,
   "metadata": {},
   "outputs": [
    {
     "name": "stdout",
     "output_type": "stream",
     "text": [
      "{1: 1, 2: 4, 3: 9, 4: 16, 5: 25, 6: 36, 7: 49, 8: 64, 9: 81, 10: 100}\n"
     ]
    }
   ],
   "source": [
    "squares = {i: i**2 for i in range(1, 11)}\n",
    "print(squares)"
   ]
  },
  {
   "cell_type": "markdown",
   "metadata": {},
   "source": [
    "### Counting words"
   ]
  },
  {
   "cell_type": "code",
   "execution_count": 5,
   "metadata": {},
   "outputs": [
    {
     "name": "stdout",
     "output_type": "stream",
     "text": [
      "key: in, count: 2\n",
      "key: and, count: 1\n",
      "key: include, count: 1\n",
      "key: provide, count: 1\n",
      "key: assignment, count: 1\n",
      "key: please, count: 1\n",
      "key: should, count: 3\n",
      "key: hosted, count: 1\n",
      "key: some, count: 1\n",
      "key: Notebook, count: 2\n",
      "key: submission., count: 1\n",
      "key: Your, count: 2\n",
      "key: GitHub;, count: 1\n",
      "key: both, count: 1\n",
      "key: a, count: 1\n",
      "key: link, count: 1\n",
      "key: utilize, count: 1\n",
      "key: Markdown., count: 1\n",
      "key: which, count: 1\n",
      "key: code, count: 1\n",
      "key: be, count: 1\n",
      "key: your, count: 1\n",
      "key: documentation,, count: 1\n",
      "key: Jupyter, count: 2\n",
      "\n",
      "\n",
      "Different Words: 24\n",
      "Words: 30\n"
     ]
    }
   ],
   "source": [
    "message = \"\"\"\n",
    "Your Jupyter Notebook should include both code and some documentation, which should utilize Markdown.\n",
    "Your Jupyter Notebook should be hosted in GitHub; please provide a link in your assignment submission.\n",
    "\"\"\"\n",
    "\n",
    "\n",
    "word_count = {word: message.split().count(word) for word in set(message.split())}\n",
    "print(\"\\n\".join([f\"key: {x}, count: {word_count[x]}\" for x in word_count.keys()]))\n",
    "print(f\"\\n\\nDifferent Words: {len(word_count)}\")\n",
    "print(f\"Words: {len(message.split())}\")"
   ]
  },
  {
   "cell_type": "markdown",
   "metadata": {},
   "source": [
    "---\n",
    "# Set Comprehensions"
   ]
  },
  {
   "cell_type": "markdown",
   "metadata": {},
   "source": [
    "### set of words"
   ]
  },
  {
   "cell_type": "code",
   "execution_count": 6,
   "metadata": {},
   "outputs": [
    {
     "name": "stdout",
     "output_type": "stream",
     "text": [
      "\n",
      "\n",
      "Different Words: 24\n",
      "\n",
      "\n",
      "in\n",
      "and\n",
      "include\n",
      "provide\n",
      "assignment\n",
      "please\n",
      "should\n",
      "hosted\n",
      "some\n",
      "Notebook\n",
      "submission.\n",
      "Your\n",
      "both\n",
      "GitHub;\n",
      "a\n",
      "link\n",
      "utilize\n",
      "Markdown.\n",
      "which\n",
      "code\n",
      "be\n",
      "your\n",
      "documentation,\n",
      "Jupyter\n"
     ]
    }
   ],
   "source": [
    "message = \"\"\"\n",
    "Your Jupyter Notebook should include both code and some documentation, which should utilize Markdown.\n",
    "Your Jupyter Notebook should be hosted in GitHub; please provide a link in your assignment submission.\n",
    "\"\"\"\n",
    "\n",
    "\n",
    "word_count_set = { word for word in set(message.split())}\n",
    "\n",
    "print(f\"\\n\\nDifferent Words: {len(word_count)}\\n\\n\")\n",
    "\n",
    "print(\"\\n\".join([x for x in word_count_set]))"
   ]
  },
  {
   "cell_type": "code",
   "execution_count": null,
   "metadata": {},
   "outputs": [],
   "source": []
  },
  {
   "cell_type": "code",
   "execution_count": null,
   "metadata": {},
   "outputs": [],
   "source": []
  }
 ],
 "metadata": {
  "kernelspec": {
   "display_name": "Python 3",
   "language": "python",
   "name": "python3"
  },
  "language_info": {
   "codemirror_mode": {
    "name": "ipython",
    "version": 3
   },
   "file_extension": ".py",
   "mimetype": "text/x-python",
   "name": "python",
   "nbconvert_exporter": "python",
   "pygments_lexer": "ipython3",
   "version": "3.7.4"
  }
 },
 "nbformat": 4,
 "nbformat_minor": 2
}
