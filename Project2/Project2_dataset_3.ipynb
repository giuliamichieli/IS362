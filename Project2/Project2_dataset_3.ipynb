{
 "cells": [
  {
   "cell_type": "markdown",
   "metadata": {},
   "source": [
    "# Project 2\n"
   ]
  },
  {
   "cell_type": "markdown",
   "metadata": {},
   "source": [
    "### Dataset 3\n",
    "\n",
    "\n",
    "https://www.kaggle.com/gpreda/covid-world-vaccination-progress\n",
    "\n",
    "I found an amazing dataset on kaggle with covid world vaccination progress. The table is very wide, and there are a lot of null values in many areas. \n",
    "\n",
    "There are interesting questions that could be answered with this dataset including the ones provided already on Kaggle.\n",
    "\n",
    "Taken from Kaggle:\n",
    "\n",
    "In which country the vaccination programme is more advanced?\n",
    "Where are more people being vaccinated per day? But in terms of percent from entire population ?\n",
    "Other questions the dataset might be able to answer:\n",
    "\n",
    "Which countries are lacking behind in COVID-19 vaccinations?\n",
    "Which countries have the highest daily vaccinations on a certain date?\n"
   ]
  },
  {
   "cell_type": "code",
   "execution_count": 1,
   "metadata": {},
   "outputs": [],
   "source": [
    "# Import libraries\n",
    "import pandas as pd\n",
    "import sys"
   ]
  },
  {
   "cell_type": "code",
   "execution_count": 2,
   "metadata": {},
   "outputs": [
    {
     "output_type": "stream",
     "name": "stdout",
     "text": [
      "The dataset has 5457 rows and 15 columns\n\nColumns:\ncountry\niso_code\ndate\ntotal_vaccinations\npeople_vaccinated\npeople_fully_vaccinated\ndaily_vaccinations_raw\ndaily_vaccinations\ntotal_vaccinations_per_hundred\npeople_vaccinated_per_hundred\npeople_fully_vaccinated_per_hundred\ndaily_vaccinations_per_million\nvaccines\nsource_name\nsource_website\n\n\n\n"
     ]
    }
   ],
   "source": [
    "# loading first dataset\n",
    "df_1 = pd.read_csv('dataset_3.csv')\n",
    "[rows, cols] = df_1.shape\n",
    "print(f\"The dataset has {rows} rows and {cols} columns\")\n",
    "print(\"\\nColumns:\")\n",
    "print(\"\\n\".join(df_1.columns.to_list()))\n",
    "print(\"\\n\\n\")"
   ]
  },
  {
   "cell_type": "code",
   "execution_count": 4,
   "metadata": {},
   "outputs": [
    {
     "output_type": "execute_result",
     "data": {
      "text/plain": [
       "   country iso_code        date  total_vaccinations  people_vaccinated  \\\n",
       "0  Albania      ALB  2021-01-10                 0.0                0.0   \n",
       "1  Albania      ALB  2021-01-11                 NaN                NaN   \n",
       "2  Albania      ALB  2021-01-12               128.0              128.0   \n",
       "3  Albania      ALB  2021-01-13               188.0              188.0   \n",
       "4  Albania      ALB  2021-01-14               266.0              266.0   \n",
       "\n",
       "   people_fully_vaccinated  daily_vaccinations_raw  daily_vaccinations  \\\n",
       "0                      NaN                     NaN                 NaN   \n",
       "1                      NaN                     NaN                64.0   \n",
       "2                      NaN                     NaN                64.0   \n",
       "3                      NaN                    60.0                63.0   \n",
       "4                      NaN                    78.0                66.0   \n",
       "\n",
       "   total_vaccinations_per_hundred  people_vaccinated_per_hundred  \\\n",
       "0                            0.00                           0.00   \n",
       "1                             NaN                            NaN   \n",
       "2                            0.00                           0.00   \n",
       "3                            0.01                           0.01   \n",
       "4                            0.01                           0.01   \n",
       "\n",
       "   people_fully_vaccinated_per_hundred  daily_vaccinations_per_million  \\\n",
       "0                                  NaN                             NaN   \n",
       "1                                  NaN                            22.0   \n",
       "2                                  NaN                            22.0   \n",
       "3                                  NaN                            22.0   \n",
       "4                                  NaN                            23.0   \n",
       "\n",
       "          vaccines         source_name  \\\n",
       "0  Pfizer/BioNTech  Ministry of Health   \n",
       "1  Pfizer/BioNTech  Ministry of Health   \n",
       "2  Pfizer/BioNTech  Ministry of Health   \n",
       "3  Pfizer/BioNTech  Ministry of Health   \n",
       "4  Pfizer/BioNTech  Ministry of Health   \n",
       "\n",
       "                                      source_website  \n",
       "0  https://shendetesia.gov.al/covid19-ministria-e...  \n",
       "1  https://shendetesia.gov.al/covid19-ministria-e...  \n",
       "2  https://shendetesia.gov.al/covid19-ministria-e...  \n",
       "3  https://shendetesia.gov.al/covid19-ministria-e...  \n",
       "4  https://shendetesia.gov.al/covid19-ministria-e...  "
      ],
      "text/html": "<div>\n<style scoped>\n    .dataframe tbody tr th:only-of-type {\n        vertical-align: middle;\n    }\n\n    .dataframe tbody tr th {\n        vertical-align: top;\n    }\n\n    .dataframe thead th {\n        text-align: right;\n    }\n</style>\n<table border=\"1\" class=\"dataframe\">\n  <thead>\n    <tr style=\"text-align: right;\">\n      <th></th>\n      <th>country</th>\n      <th>iso_code</th>\n      <th>date</th>\n      <th>total_vaccinations</th>\n      <th>people_vaccinated</th>\n      <th>people_fully_vaccinated</th>\n      <th>daily_vaccinations_raw</th>\n      <th>daily_vaccinations</th>\n      <th>total_vaccinations_per_hundred</th>\n      <th>people_vaccinated_per_hundred</th>\n      <th>people_fully_vaccinated_per_hundred</th>\n      <th>daily_vaccinations_per_million</th>\n      <th>vaccines</th>\n      <th>source_name</th>\n      <th>source_website</th>\n    </tr>\n  </thead>\n  <tbody>\n    <tr>\n      <td>0</td>\n      <td>Albania</td>\n      <td>ALB</td>\n      <td>2021-01-10</td>\n      <td>0.0</td>\n      <td>0.0</td>\n      <td>NaN</td>\n      <td>NaN</td>\n      <td>NaN</td>\n      <td>0.00</td>\n      <td>0.00</td>\n      <td>NaN</td>\n      <td>NaN</td>\n      <td>Pfizer/BioNTech</td>\n      <td>Ministry of Health</td>\n      <td>https://shendetesia.gov.al/covid19-ministria-e...</td>\n    </tr>\n    <tr>\n      <td>1</td>\n      <td>Albania</td>\n      <td>ALB</td>\n      <td>2021-01-11</td>\n      <td>NaN</td>\n      <td>NaN</td>\n      <td>NaN</td>\n      <td>NaN</td>\n      <td>64.0</td>\n      <td>NaN</td>\n      <td>NaN</td>\n      <td>NaN</td>\n      <td>22.0</td>\n      <td>Pfizer/BioNTech</td>\n      <td>Ministry of Health</td>\n      <td>https://shendetesia.gov.al/covid19-ministria-e...</td>\n    </tr>\n    <tr>\n      <td>2</td>\n      <td>Albania</td>\n      <td>ALB</td>\n      <td>2021-01-12</td>\n      <td>128.0</td>\n      <td>128.0</td>\n      <td>NaN</td>\n      <td>NaN</td>\n      <td>64.0</td>\n      <td>0.00</td>\n      <td>0.00</td>\n      <td>NaN</td>\n      <td>22.0</td>\n      <td>Pfizer/BioNTech</td>\n      <td>Ministry of Health</td>\n      <td>https://shendetesia.gov.al/covid19-ministria-e...</td>\n    </tr>\n    <tr>\n      <td>3</td>\n      <td>Albania</td>\n      <td>ALB</td>\n      <td>2021-01-13</td>\n      <td>188.0</td>\n      <td>188.0</td>\n      <td>NaN</td>\n      <td>60.0</td>\n      <td>63.0</td>\n      <td>0.01</td>\n      <td>0.01</td>\n      <td>NaN</td>\n      <td>22.0</td>\n      <td>Pfizer/BioNTech</td>\n      <td>Ministry of Health</td>\n      <td>https://shendetesia.gov.al/covid19-ministria-e...</td>\n    </tr>\n    <tr>\n      <td>4</td>\n      <td>Albania</td>\n      <td>ALB</td>\n      <td>2021-01-14</td>\n      <td>266.0</td>\n      <td>266.0</td>\n      <td>NaN</td>\n      <td>78.0</td>\n      <td>66.0</td>\n      <td>0.01</td>\n      <td>0.01</td>\n      <td>NaN</td>\n      <td>23.0</td>\n      <td>Pfizer/BioNTech</td>\n      <td>Ministry of Health</td>\n      <td>https://shendetesia.gov.al/covid19-ministria-e...</td>\n    </tr>\n  </tbody>\n</table>\n</div>"
     },
     "metadata": {},
     "execution_count": 4
    }
   ],
   "source": [
    "df_1.head()"
   ]
  },
  {
   "source": [
    "## Cleaning\n",
    "I would like to get the data by country. The date is not important for my analysis.\n",
    "I will drop iso_code, source_name and source_website"
   ],
   "cell_type": "markdown",
   "metadata": {}
  },
  {
   "cell_type": "code",
   "execution_count": 3,
   "metadata": {},
   "outputs": [
    {
     "output_type": "execute_result",
     "data": {
      "text/plain": [
       "   country iso_code        date  total_vaccinations  people_vaccinated  \\\n",
       "0  Albania      ALB  2021-01-10                 0.0                0.0   \n",
       "1  Albania      ALB  2021-01-11                 NaN                NaN   \n",
       "2  Albania      ALB  2021-01-12               128.0              128.0   \n",
       "3  Albania      ALB  2021-01-13               188.0              188.0   \n",
       "4  Albania      ALB  2021-01-14               266.0              266.0   \n",
       "\n",
       "   people_fully_vaccinated  daily_vaccinations_raw  daily_vaccinations  \\\n",
       "0                      NaN                     NaN                 NaN   \n",
       "1                      NaN                     NaN                64.0   \n",
       "2                      NaN                     NaN                64.0   \n",
       "3                      NaN                    60.0                63.0   \n",
       "4                      NaN                    78.0                66.0   \n",
       "\n",
       "   total_vaccinations_per_hundred  people_vaccinated_per_hundred  \\\n",
       "0                            0.00                           0.00   \n",
       "1                             NaN                            NaN   \n",
       "2                            0.00                           0.00   \n",
       "3                            0.01                           0.01   \n",
       "4                            0.01                           0.01   \n",
       "\n",
       "   people_fully_vaccinated_per_hundred  daily_vaccinations_per_million  \\\n",
       "0                                  NaN                             NaN   \n",
       "1                                  NaN                            22.0   \n",
       "2                                  NaN                            22.0   \n",
       "3                                  NaN                            22.0   \n",
       "4                                  NaN                            23.0   \n",
       "\n",
       "          vaccines         source_name  \\\n",
       "0  Pfizer/BioNTech  Ministry of Health   \n",
       "1  Pfizer/BioNTech  Ministry of Health   \n",
       "2  Pfizer/BioNTech  Ministry of Health   \n",
       "3  Pfizer/BioNTech  Ministry of Health   \n",
       "4  Pfizer/BioNTech  Ministry of Health   \n",
       "\n",
       "                                      source_website  \n",
       "0  https://shendetesia.gov.al/covid19-ministria-e...  \n",
       "1  https://shendetesia.gov.al/covid19-ministria-e...  \n",
       "2  https://shendetesia.gov.al/covid19-ministria-e...  \n",
       "3  https://shendetesia.gov.al/covid19-ministria-e...  \n",
       "4  https://shendetesia.gov.al/covid19-ministria-e...  "
      ],
      "text/html": "<div>\n<style scoped>\n    .dataframe tbody tr th:only-of-type {\n        vertical-align: middle;\n    }\n\n    .dataframe tbody tr th {\n        vertical-align: top;\n    }\n\n    .dataframe thead th {\n        text-align: right;\n    }\n</style>\n<table border=\"1\" class=\"dataframe\">\n  <thead>\n    <tr style=\"text-align: right;\">\n      <th></th>\n      <th>country</th>\n      <th>iso_code</th>\n      <th>date</th>\n      <th>total_vaccinations</th>\n      <th>people_vaccinated</th>\n      <th>people_fully_vaccinated</th>\n      <th>daily_vaccinations_raw</th>\n      <th>daily_vaccinations</th>\n      <th>total_vaccinations_per_hundred</th>\n      <th>people_vaccinated_per_hundred</th>\n      <th>people_fully_vaccinated_per_hundred</th>\n      <th>daily_vaccinations_per_million</th>\n      <th>vaccines</th>\n      <th>source_name</th>\n      <th>source_website</th>\n    </tr>\n  </thead>\n  <tbody>\n    <tr>\n      <td>0</td>\n      <td>Albania</td>\n      <td>ALB</td>\n      <td>2021-01-10</td>\n      <td>0.0</td>\n      <td>0.0</td>\n      <td>NaN</td>\n      <td>NaN</td>\n      <td>NaN</td>\n      <td>0.00</td>\n      <td>0.00</td>\n      <td>NaN</td>\n      <td>NaN</td>\n      <td>Pfizer/BioNTech</td>\n      <td>Ministry of Health</td>\n      <td>https://shendetesia.gov.al/covid19-ministria-e...</td>\n    </tr>\n    <tr>\n      <td>1</td>\n      <td>Albania</td>\n      <td>ALB</td>\n      <td>2021-01-11</td>\n      <td>NaN</td>\n      <td>NaN</td>\n      <td>NaN</td>\n      <td>NaN</td>\n      <td>64.0</td>\n      <td>NaN</td>\n      <td>NaN</td>\n      <td>NaN</td>\n      <td>22.0</td>\n      <td>Pfizer/BioNTech</td>\n      <td>Ministry of Health</td>\n      <td>https://shendetesia.gov.al/covid19-ministria-e...</td>\n    </tr>\n    <tr>\n      <td>2</td>\n      <td>Albania</td>\n      <td>ALB</td>\n      <td>2021-01-12</td>\n      <td>128.0</td>\n      <td>128.0</td>\n      <td>NaN</td>\n      <td>NaN</td>\n      <td>64.0</td>\n      <td>0.00</td>\n      <td>0.00</td>\n      <td>NaN</td>\n      <td>22.0</td>\n      <td>Pfizer/BioNTech</td>\n      <td>Ministry of Health</td>\n      <td>https://shendetesia.gov.al/covid19-ministria-e...</td>\n    </tr>\n    <tr>\n      <td>3</td>\n      <td>Albania</td>\n      <td>ALB</td>\n      <td>2021-01-13</td>\n      <td>188.0</td>\n      <td>188.0</td>\n      <td>NaN</td>\n      <td>60.0</td>\n      <td>63.0</td>\n      <td>0.01</td>\n      <td>0.01</td>\n      <td>NaN</td>\n      <td>22.0</td>\n      <td>Pfizer/BioNTech</td>\n      <td>Ministry of Health</td>\n      <td>https://shendetesia.gov.al/covid19-ministria-e...</td>\n    </tr>\n    <tr>\n      <td>4</td>\n      <td>Albania</td>\n      <td>ALB</td>\n      <td>2021-01-14</td>\n      <td>266.0</td>\n      <td>266.0</td>\n      <td>NaN</td>\n      <td>78.0</td>\n      <td>66.0</td>\n      <td>0.01</td>\n      <td>0.01</td>\n      <td>NaN</td>\n      <td>23.0</td>\n      <td>Pfizer/BioNTech</td>\n      <td>Ministry of Health</td>\n      <td>https://shendetesia.gov.al/covid19-ministria-e...</td>\n    </tr>\n  </tbody>\n</table>\n</div>"
     },
     "metadata": {},
     "execution_count": 3
    }
   ],
   "source": [
    "df_1.head()"
   ]
  },
  {
   "cell_type": "code",
   "execution_count": 5,
   "metadata": {},
   "outputs": [
    {
     "output_type": "execute_result",
     "data": {
      "text/plain": [
       "   country  total_vaccinations  people_vaccinated  people_fully_vaccinated  \\\n",
       "0  Albania                 0.0                0.0                      0.0   \n",
       "1  Albania                 0.0                0.0                      0.0   \n",
       "2  Albania               128.0              128.0                      0.0   \n",
       "3  Albania               188.0              188.0                      0.0   \n",
       "4  Albania               266.0              266.0                      0.0   \n",
       "\n",
       "   daily_vaccinations_raw  daily_vaccinations  total_vaccinations_per_hundred  \\\n",
       "0                     0.0                 0.0                            0.00   \n",
       "1                     0.0                64.0                            0.00   \n",
       "2                     0.0                64.0                            0.00   \n",
       "3                    60.0                63.0                            0.01   \n",
       "4                    78.0                66.0                            0.01   \n",
       "\n",
       "   people_vaccinated_per_hundred  people_fully_vaccinated_per_hundred  \\\n",
       "0                           0.00                                  0.0   \n",
       "1                           0.00                                  0.0   \n",
       "2                           0.00                                  0.0   \n",
       "3                           0.01                                  0.0   \n",
       "4                           0.01                                  0.0   \n",
       "\n",
       "   daily_vaccinations_per_million  \n",
       "0                             0.0  \n",
       "1                            22.0  \n",
       "2                            22.0  \n",
       "3                            22.0  \n",
       "4                            23.0  "
      ],
      "text/html": "<div>\n<style scoped>\n    .dataframe tbody tr th:only-of-type {\n        vertical-align: middle;\n    }\n\n    .dataframe tbody tr th {\n        vertical-align: top;\n    }\n\n    .dataframe thead th {\n        text-align: right;\n    }\n</style>\n<table border=\"1\" class=\"dataframe\">\n  <thead>\n    <tr style=\"text-align: right;\">\n      <th></th>\n      <th>country</th>\n      <th>total_vaccinations</th>\n      <th>people_vaccinated</th>\n      <th>people_fully_vaccinated</th>\n      <th>daily_vaccinations_raw</th>\n      <th>daily_vaccinations</th>\n      <th>total_vaccinations_per_hundred</th>\n      <th>people_vaccinated_per_hundred</th>\n      <th>people_fully_vaccinated_per_hundred</th>\n      <th>daily_vaccinations_per_million</th>\n    </tr>\n  </thead>\n  <tbody>\n    <tr>\n      <td>0</td>\n      <td>Albania</td>\n      <td>0.0</td>\n      <td>0.0</td>\n      <td>0.0</td>\n      <td>0.0</td>\n      <td>0.0</td>\n      <td>0.00</td>\n      <td>0.00</td>\n      <td>0.0</td>\n      <td>0.0</td>\n    </tr>\n    <tr>\n      <td>1</td>\n      <td>Albania</td>\n      <td>0.0</td>\n      <td>0.0</td>\n      <td>0.0</td>\n      <td>0.0</td>\n      <td>64.0</td>\n      <td>0.00</td>\n      <td>0.00</td>\n      <td>0.0</td>\n      <td>22.0</td>\n    </tr>\n    <tr>\n      <td>2</td>\n      <td>Albania</td>\n      <td>128.0</td>\n      <td>128.0</td>\n      <td>0.0</td>\n      <td>0.0</td>\n      <td>64.0</td>\n      <td>0.00</td>\n      <td>0.00</td>\n      <td>0.0</td>\n      <td>22.0</td>\n    </tr>\n    <tr>\n      <td>3</td>\n      <td>Albania</td>\n      <td>188.0</td>\n      <td>188.0</td>\n      <td>0.0</td>\n      <td>60.0</td>\n      <td>63.0</td>\n      <td>0.01</td>\n      <td>0.01</td>\n      <td>0.0</td>\n      <td>22.0</td>\n    </tr>\n    <tr>\n      <td>4</td>\n      <td>Albania</td>\n      <td>266.0</td>\n      <td>266.0</td>\n      <td>0.0</td>\n      <td>78.0</td>\n      <td>66.0</td>\n      <td>0.01</td>\n      <td>0.01</td>\n      <td>0.0</td>\n      <td>23.0</td>\n    </tr>\n  </tbody>\n</table>\n</div>"
     },
     "metadata": {},
     "execution_count": 5
    }
   ],
   "source": [
    "df_1 = df_1.drop(columns=['date', 'iso_code', 'source_name', 'source_website', 'vaccines'])\n",
    "df_1 = df_1.fillna(0)\n",
    "df_1.head()"
   ]
  },
  {
   "cell_type": "code",
   "execution_count": 6,
   "metadata": {
    "tags": []
   },
   "outputs": [
    {
     "output_type": "execute_result",
     "data": {
      "text/plain": [
       "(129, 10)"
      ]
     },
     "metadata": {},
     "execution_count": 6
    }
   ],
   "source": [
    "aggregations = {\n",
    "\t\t'total_vaccinations': max,\n",
    "\t\t'people_vaccinated': max,\n",
    "\t\t'people_fully_vaccinated': max,\n",
    "\t\t'daily_vaccinations_raw': 'mean',\n",
    "\t\t'daily_vaccinations': 'sum',\n",
    "\t\t'total_vaccinations_per_hundred': max,\n",
    "\t\t'people_vaccinated_per_hundred': max,\n",
    "\t\t'people_fully_vaccinated_per_hundred': max,\n",
    "\t\t'daily_vaccinations_per_million': 'mean',\n",
    "    }\n",
    "grouped_df = df_1.groupby('country', as_index=False).agg(aggregations)\n",
    "\n",
    "grouped_df.shape"
   ]
  },
  {
   "source": [
    "After testing some aggregations and parsing the output data, I got the correct DataFrame.\n",
    "Some columns must be aggregated by sum, others by average and others by maximum because it has the accumulated value"
   ],
   "cell_type": "markdown",
   "metadata": {}
  },
  {
   "cell_type": "code",
   "execution_count": 7,
   "metadata": {},
   "outputs": [
    {
     "output_type": "execute_result",
     "data": {
      "text/plain": [
       "           country  total_vaccinations  people_vaccinated  \\\n",
       "124  United States          90351750.0         58873710.0   \n",
       "\n",
       "     people_fully_vaccinated  daily_vaccinations_raw  daily_vaccinations  \\\n",
       "124               30686881.0           997216.564103          82977935.0   \n",
       "\n",
       "     total_vaccinations_per_hundred  people_vaccinated_per_hundred  \\\n",
       "124                           27.02                           17.6   \n",
       "\n",
       "     people_fully_vaccinated_per_hundred  daily_vaccinations_per_million  \n",
       "124                                 9.18                     3180.897436  "
      ],
      "text/html": "<div>\n<style scoped>\n    .dataframe tbody tr th:only-of-type {\n        vertical-align: middle;\n    }\n\n    .dataframe tbody tr th {\n        vertical-align: top;\n    }\n\n    .dataframe thead th {\n        text-align: right;\n    }\n</style>\n<table border=\"1\" class=\"dataframe\">\n  <thead>\n    <tr style=\"text-align: right;\">\n      <th></th>\n      <th>country</th>\n      <th>total_vaccinations</th>\n      <th>people_vaccinated</th>\n      <th>people_fully_vaccinated</th>\n      <th>daily_vaccinations_raw</th>\n      <th>daily_vaccinations</th>\n      <th>total_vaccinations_per_hundred</th>\n      <th>people_vaccinated_per_hundred</th>\n      <th>people_fully_vaccinated_per_hundred</th>\n      <th>daily_vaccinations_per_million</th>\n    </tr>\n  </thead>\n  <tbody>\n    <tr>\n      <td>124</td>\n      <td>United States</td>\n      <td>90351750.0</td>\n      <td>58873710.0</td>\n      <td>30686881.0</td>\n      <td>997216.564103</td>\n      <td>82977935.0</td>\n      <td>27.02</td>\n      <td>17.6</td>\n      <td>9.18</td>\n      <td>3180.897436</td>\n    </tr>\n  </tbody>\n</table>\n</div>"
     },
     "metadata": {},
     "execution_count": 7
    }
   ],
   "source": [
    "grouped_df[grouped_df['country'].str.contains('United States')]"
   ]
  },
  {
   "source": [
    "# Analyzes"
   ],
   "cell_type": "markdown",
   "metadata": {}
  },
  {
   "source": [
    "### Some analyzes that could be performed on the data:\n",
    "- In which country the vaccination programme is more advanced?\n",
    "- Where are more people being vaccinated per day? But in terms of percent from entire population ? \n",
    "\n",
    "Other questions the dataset might be able to answer:\n",
    "\n",
    "- Which countries are lacking behind in COVID-19 vaccinations?\n",
    "- Which countries have the highest daily vaccinations on a certain date?\n"
   ],
   "cell_type": "markdown",
   "metadata": {}
  },
  {
   "source": [
    "### 1 .In which country the vaccination programme is more advanced?\n",
    "\n",
    "This is the country that has the highest value of people_fully_vaccinated_per_hundred. I'll get the top 5"
   ],
   "cell_type": "markdown",
   "metadata": {}
  },
  {
   "cell_type": "code",
   "execution_count": 8,
   "metadata": {},
   "outputs": [
    {
     "output_type": "execute_result",
     "data": {
      "text/plain": [
       "                  country  people_fully_vaccinated_per_hundred\n",
       "41              Gibraltar                                46.22\n",
       "57                 Israel                                43.78\n",
       "107            Seychelles                                25.04\n",
       "122  United Arab Emirates                                22.12\n",
       "14                Bermuda                                13.88"
      ],
      "text/html": "<div>\n<style scoped>\n    .dataframe tbody tr th:only-of-type {\n        vertical-align: middle;\n    }\n\n    .dataframe tbody tr th {\n        vertical-align: top;\n    }\n\n    .dataframe thead th {\n        text-align: right;\n    }\n</style>\n<table border=\"1\" class=\"dataframe\">\n  <thead>\n    <tr style=\"text-align: right;\">\n      <th></th>\n      <th>country</th>\n      <th>people_fully_vaccinated_per_hundred</th>\n    </tr>\n  </thead>\n  <tbody>\n    <tr>\n      <td>41</td>\n      <td>Gibraltar</td>\n      <td>46.22</td>\n    </tr>\n    <tr>\n      <td>57</td>\n      <td>Israel</td>\n      <td>43.78</td>\n    </tr>\n    <tr>\n      <td>107</td>\n      <td>Seychelles</td>\n      <td>25.04</td>\n    </tr>\n    <tr>\n      <td>122</td>\n      <td>United Arab Emirates</td>\n      <td>22.12</td>\n    </tr>\n    <tr>\n      <td>14</td>\n      <td>Bermuda</td>\n      <td>13.88</td>\n    </tr>\n  </tbody>\n</table>\n</div>"
     },
     "metadata": {},
     "execution_count": 8
    }
   ],
   "source": [
    "grouped_df.sort_values('people_fully_vaccinated_per_hundred', ascending=False)[['country', 'people_fully_vaccinated_per_hundred']].head()"
   ]
  },
  {
   "source": [
    "### 2. Where are more people being vaccinated per day? "
   ],
   "cell_type": "markdown",
   "metadata": {}
  },
  {
   "cell_type": "code",
   "execution_count": 9,
   "metadata": {},
   "outputs": [
    {
     "output_type": "execute_result",
     "data": {
      "text/plain": [
       "            country  daily_vaccinations\n",
       "124   United States          82977935.0\n",
       "22            China          49687760.0\n",
       "123  United Kingdom          22248026.0\n",
       "34          England          18769920.0\n",
       "52            India          18545913.0"
      ],
      "text/html": "<div>\n<style scoped>\n    .dataframe tbody tr th:only-of-type {\n        vertical-align: middle;\n    }\n\n    .dataframe tbody tr th {\n        vertical-align: top;\n    }\n\n    .dataframe thead th {\n        text-align: right;\n    }\n</style>\n<table border=\"1\" class=\"dataframe\">\n  <thead>\n    <tr style=\"text-align: right;\">\n      <th></th>\n      <th>country</th>\n      <th>daily_vaccinations</th>\n    </tr>\n  </thead>\n  <tbody>\n    <tr>\n      <td>124</td>\n      <td>United States</td>\n      <td>82977935.0</td>\n    </tr>\n    <tr>\n      <td>22</td>\n      <td>China</td>\n      <td>49687760.0</td>\n    </tr>\n    <tr>\n      <td>123</td>\n      <td>United Kingdom</td>\n      <td>22248026.0</td>\n    </tr>\n    <tr>\n      <td>34</td>\n      <td>England</td>\n      <td>18769920.0</td>\n    </tr>\n    <tr>\n      <td>52</td>\n      <td>India</td>\n      <td>18545913.0</td>\n    </tr>\n  </tbody>\n</table>\n</div>"
     },
     "metadata": {},
     "execution_count": 9
    }
   ],
   "source": [
    "grouped_df.sort_values('daily_vaccinations', ascending=False)[['country', 'daily_vaccinations']].head()"
   ]
  },
  {
   "source": [
    "### But in terms of percent from entire population ?\n",
    "To answer this question, we need the total population by country."
   ],
   "cell_type": "markdown",
   "metadata": {}
  },
  {
   "source": [
    "### 3. Which countries are lacking behind in COVID-19 vaccinations?\n"
   ],
   "cell_type": "markdown",
   "metadata": {}
  },
  {
   "cell_type": "code",
   "execution_count": 10,
   "metadata": {},
   "outputs": [
    {
     "output_type": "execute_result",
     "data": {
      "text/plain": [
       "         country  people_fully_vaccinated_per_hundred\n",
       "128     Zimbabwe                                  0.0\n",
       "32         Egypt                                  0.0\n",
       "33   El Salvador                                  0.0\n",
       "90        Panama                                  0.0\n",
       "89      Pakistan                                  0.0"
      ],
      "text/html": "<div>\n<style scoped>\n    .dataframe tbody tr th:only-of-type {\n        vertical-align: middle;\n    }\n\n    .dataframe tbody tr th {\n        vertical-align: top;\n    }\n\n    .dataframe thead th {\n        text-align: right;\n    }\n</style>\n<table border=\"1\" class=\"dataframe\">\n  <thead>\n    <tr style=\"text-align: right;\">\n      <th></th>\n      <th>country</th>\n      <th>people_fully_vaccinated_per_hundred</th>\n    </tr>\n  </thead>\n  <tbody>\n    <tr>\n      <td>128</td>\n      <td>Zimbabwe</td>\n      <td>0.0</td>\n    </tr>\n    <tr>\n      <td>32</td>\n      <td>Egypt</td>\n      <td>0.0</td>\n    </tr>\n    <tr>\n      <td>33</td>\n      <td>El Salvador</td>\n      <td>0.0</td>\n    </tr>\n    <tr>\n      <td>90</td>\n      <td>Panama</td>\n      <td>0.0</td>\n    </tr>\n    <tr>\n      <td>89</td>\n      <td>Pakistan</td>\n      <td>0.0</td>\n    </tr>\n  </tbody>\n</table>\n</div>"
     },
     "metadata": {},
     "execution_count": 10
    }
   ],
   "source": [
    "grouped_df.sort_values('people_fully_vaccinated_per_hundred', ascending=True)[['country', 'people_fully_vaccinated_per_hundred']].head()"
   ]
  },
  {
   "source": [
    "There are many countries that don't have vaccinated people. Therefore, I will analyze those who started vaccination"
   ],
   "cell_type": "markdown",
   "metadata": {}
  },
  {
   "cell_type": "code",
   "execution_count": 11,
   "metadata": {},
   "outputs": [
    {
     "output_type": "execute_result",
     "data": {
      "text/plain": [
       "          country  people_fully_vaccinated_per_hundred\n",
       "62     Kazakhstan                                 0.01\n",
       "0         Albania                                 0.02\n",
       "31        Ecuador                                 0.04\n",
       "15        Bolivia                                 0.08\n",
       "111  South Africa                                 0.17"
      ],
      "text/html": "<div>\n<style scoped>\n    .dataframe tbody tr th:only-of-type {\n        vertical-align: middle;\n    }\n\n    .dataframe tbody tr th {\n        vertical-align: top;\n    }\n\n    .dataframe thead th {\n        text-align: right;\n    }\n</style>\n<table border=\"1\" class=\"dataframe\">\n  <thead>\n    <tr style=\"text-align: right;\">\n      <th></th>\n      <th>country</th>\n      <th>people_fully_vaccinated_per_hundred</th>\n    </tr>\n  </thead>\n  <tbody>\n    <tr>\n      <td>62</td>\n      <td>Kazakhstan</td>\n      <td>0.01</td>\n    </tr>\n    <tr>\n      <td>0</td>\n      <td>Albania</td>\n      <td>0.02</td>\n    </tr>\n    <tr>\n      <td>31</td>\n      <td>Ecuador</td>\n      <td>0.04</td>\n    </tr>\n    <tr>\n      <td>15</td>\n      <td>Bolivia</td>\n      <td>0.08</td>\n    </tr>\n    <tr>\n      <td>111</td>\n      <td>South Africa</td>\n      <td>0.17</td>\n    </tr>\n  </tbody>\n</table>\n</div>"
     },
     "metadata": {},
     "execution_count": 11
    }
   ],
   "source": [
    "index_filtered = grouped_df['people_fully_vaccinated_per_hundred']>0\n",
    "\n",
    "\n",
    "\n",
    "grouped_df[index_filtered].sort_values('people_fully_vaccinated_per_hundred', ascending=True)[['country', 'people_fully_vaccinated_per_hundred']].head()"
   ]
  },
  {
   "source": [
    "Now we can see the 5 countries with the fewest people completely vaccinated per hundred"
   ],
   "cell_type": "markdown",
   "metadata": {}
  },
  {
   "source": [
    "### 4. Which countries have the highest daily vaccinations on a certain date? \n",
    "#### To answer this question we should to take the initail data."
   ],
   "cell_type": "markdown",
   "metadata": {}
  },
  {
   "cell_type": "code",
   "execution_count": 12,
   "metadata": {},
   "outputs": [],
   "source": [
    "# loading first dataset\n",
    "df_2 = pd.read_csv('dataset_3.csv')"
   ]
  },
  {
   "cell_type": "code",
   "execution_count": 13,
   "metadata": {},
   "outputs": [
    {
     "output_type": "execute_result",
     "data": {
      "text/plain": [
       "            country iso_code        date  total_vaccinations  \\\n",
       "5331  United States      USA  2021-03-07          90351750.0   \n",
       "\n",
       "      people_vaccinated  people_fully_vaccinated  daily_vaccinations_raw  \\\n",
       "5331         58873710.0               30686881.0               2439427.0   \n",
       "\n",
       "      daily_vaccinations  total_vaccinations_per_hundred  \\\n",
       "5331           2159392.0                           27.02   \n",
       "\n",
       "      people_vaccinated_per_hundred  people_fully_vaccinated_per_hundred  \\\n",
       "5331                           17.6                                 9.18   \n",
       "\n",
       "      daily_vaccinations_per_million                  vaccines  \\\n",
       "5331                          6457.0  Moderna, Pfizer/BioNTech   \n",
       "\n",
       "                                     source_name  \\\n",
       "5331  Centers for Disease Control and Prevention   \n",
       "\n",
       "                                         source_website  \n",
       "5331  https://covid.cdc.gov/covid-data-tracker/#vacc...  "
      ],
      "text/html": "<div>\n<style scoped>\n    .dataframe tbody tr th:only-of-type {\n        vertical-align: middle;\n    }\n\n    .dataframe tbody tr th {\n        vertical-align: top;\n    }\n\n    .dataframe thead th {\n        text-align: right;\n    }\n</style>\n<table border=\"1\" class=\"dataframe\">\n  <thead>\n    <tr style=\"text-align: right;\">\n      <th></th>\n      <th>country</th>\n      <th>iso_code</th>\n      <th>date</th>\n      <th>total_vaccinations</th>\n      <th>people_vaccinated</th>\n      <th>people_fully_vaccinated</th>\n      <th>daily_vaccinations_raw</th>\n      <th>daily_vaccinations</th>\n      <th>total_vaccinations_per_hundred</th>\n      <th>people_vaccinated_per_hundred</th>\n      <th>people_fully_vaccinated_per_hundred</th>\n      <th>daily_vaccinations_per_million</th>\n      <th>vaccines</th>\n      <th>source_name</th>\n      <th>source_website</th>\n    </tr>\n  </thead>\n  <tbody>\n    <tr>\n      <td>5331</td>\n      <td>United States</td>\n      <td>USA</td>\n      <td>2021-03-07</td>\n      <td>90351750.0</td>\n      <td>58873710.0</td>\n      <td>30686881.0</td>\n      <td>2439427.0</td>\n      <td>2159392.0</td>\n      <td>27.02</td>\n      <td>17.6</td>\n      <td>9.18</td>\n      <td>6457.0</td>\n      <td>Moderna, Pfizer/BioNTech</td>\n      <td>Centers for Disease Control and Prevention</td>\n      <td>https://covid.cdc.gov/covid-data-tracker/#vacc...</td>\n    </tr>\n  </tbody>\n</table>\n</div>"
     },
     "metadata": {},
     "execution_count": 13
    }
   ],
   "source": [
    "df_2[df_2['daily_vaccinations']==df_2['daily_vaccinations'].max()]"
   ]
  },
  {
   "source": [
    "### The United States is the country with the highest number of daily vaccinations on any given day. It was on 2021-03-07\n",
    "--------\n",
    "#### Below we list top 5"
   ],
   "cell_type": "markdown",
   "metadata": {}
  },
  {
   "cell_type": "code",
   "execution_count": 14,
   "metadata": {},
   "outputs": [
    {
     "output_type": "execute_result",
     "data": {
      "text/plain": [
       "            country iso_code        date  total_vaccinations  \\\n",
       "5331  United States      USA  2021-03-07          90351750.0   \n",
       "5330  United States      USA  2021-03-06          87912323.0   \n",
       "5329  United States      USA  2021-03-05          85008094.0   \n",
       "5328  United States      USA  2021-03-04          82572848.0   \n",
       "5327  United States      USA  2021-03-03          80540474.0   \n",
       "\n",
       "      people_vaccinated  people_fully_vaccinated  daily_vaccinations_raw  \\\n",
       "5331         58873710.0               30686881.0               2439427.0   \n",
       "5330         57358849.0               29776160.0               2904229.0   \n",
       "5329         55547697.0               28701201.0               2435246.0   \n",
       "5328         54035670.0               27795980.0               2032374.0   \n",
       "5327         52855579.0               26957804.0               1908873.0   \n",
       "\n",
       "      daily_vaccinations  total_vaccinations_per_hundred  \\\n",
       "5331           2159392.0                           27.02   \n",
       "5330           2158020.0                           26.29   \n",
       "5329           2079147.0                           25.42   \n",
       "5328           2042676.0                           24.69   \n",
       "5327           2010790.0                           24.08   \n",
       "\n",
       "      people_vaccinated_per_hundred  people_fully_vaccinated_per_hundred  \\\n",
       "5331                          17.60                                 9.18   \n",
       "5330                          17.15                                 8.90   \n",
       "5329                          16.61                                 8.58   \n",
       "5328                          16.16                                 8.31   \n",
       "5327                          15.80                                 8.06   \n",
       "\n",
       "      daily_vaccinations_per_million                  vaccines  \\\n",
       "5331                          6457.0  Moderna, Pfizer/BioNTech   \n",
       "5330                          6453.0  Moderna, Pfizer/BioNTech   \n",
       "5329                          6217.0  Moderna, Pfizer/BioNTech   \n",
       "5328                          6108.0  Moderna, Pfizer/BioNTech   \n",
       "5327                          6012.0  Moderna, Pfizer/BioNTech   \n",
       "\n",
       "                                     source_name  \\\n",
       "5331  Centers for Disease Control and Prevention   \n",
       "5330  Centers for Disease Control and Prevention   \n",
       "5329  Centers for Disease Control and Prevention   \n",
       "5328  Centers for Disease Control and Prevention   \n",
       "5327  Centers for Disease Control and Prevention   \n",
       "\n",
       "                                         source_website  \n",
       "5331  https://covid.cdc.gov/covid-data-tracker/#vacc...  \n",
       "5330  https://covid.cdc.gov/covid-data-tracker/#vacc...  \n",
       "5329  https://covid.cdc.gov/covid-data-tracker/#vacc...  \n",
       "5328  https://covid.cdc.gov/covid-data-tracker/#vacc...  \n",
       "5327  https://covid.cdc.gov/covid-data-tracker/#vacc...  "
      ],
      "text/html": "<div>\n<style scoped>\n    .dataframe tbody tr th:only-of-type {\n        vertical-align: middle;\n    }\n\n    .dataframe tbody tr th {\n        vertical-align: top;\n    }\n\n    .dataframe thead th {\n        text-align: right;\n    }\n</style>\n<table border=\"1\" class=\"dataframe\">\n  <thead>\n    <tr style=\"text-align: right;\">\n      <th></th>\n      <th>country</th>\n      <th>iso_code</th>\n      <th>date</th>\n      <th>total_vaccinations</th>\n      <th>people_vaccinated</th>\n      <th>people_fully_vaccinated</th>\n      <th>daily_vaccinations_raw</th>\n      <th>daily_vaccinations</th>\n      <th>total_vaccinations_per_hundred</th>\n      <th>people_vaccinated_per_hundred</th>\n      <th>people_fully_vaccinated_per_hundred</th>\n      <th>daily_vaccinations_per_million</th>\n      <th>vaccines</th>\n      <th>source_name</th>\n      <th>source_website</th>\n    </tr>\n  </thead>\n  <tbody>\n    <tr>\n      <td>5331</td>\n      <td>United States</td>\n      <td>USA</td>\n      <td>2021-03-07</td>\n      <td>90351750.0</td>\n      <td>58873710.0</td>\n      <td>30686881.0</td>\n      <td>2439427.0</td>\n      <td>2159392.0</td>\n      <td>27.02</td>\n      <td>17.60</td>\n      <td>9.18</td>\n      <td>6457.0</td>\n      <td>Moderna, Pfizer/BioNTech</td>\n      <td>Centers for Disease Control and Prevention</td>\n      <td>https://covid.cdc.gov/covid-data-tracker/#vacc...</td>\n    </tr>\n    <tr>\n      <td>5330</td>\n      <td>United States</td>\n      <td>USA</td>\n      <td>2021-03-06</td>\n      <td>87912323.0</td>\n      <td>57358849.0</td>\n      <td>29776160.0</td>\n      <td>2904229.0</td>\n      <td>2158020.0</td>\n      <td>26.29</td>\n      <td>17.15</td>\n      <td>8.90</td>\n      <td>6453.0</td>\n      <td>Moderna, Pfizer/BioNTech</td>\n      <td>Centers for Disease Control and Prevention</td>\n      <td>https://covid.cdc.gov/covid-data-tracker/#vacc...</td>\n    </tr>\n    <tr>\n      <td>5329</td>\n      <td>United States</td>\n      <td>USA</td>\n      <td>2021-03-05</td>\n      <td>85008094.0</td>\n      <td>55547697.0</td>\n      <td>28701201.0</td>\n      <td>2435246.0</td>\n      <td>2079147.0</td>\n      <td>25.42</td>\n      <td>16.61</td>\n      <td>8.58</td>\n      <td>6217.0</td>\n      <td>Moderna, Pfizer/BioNTech</td>\n      <td>Centers for Disease Control and Prevention</td>\n      <td>https://covid.cdc.gov/covid-data-tracker/#vacc...</td>\n    </tr>\n    <tr>\n      <td>5328</td>\n      <td>United States</td>\n      <td>USA</td>\n      <td>2021-03-04</td>\n      <td>82572848.0</td>\n      <td>54035670.0</td>\n      <td>27795980.0</td>\n      <td>2032374.0</td>\n      <td>2042676.0</td>\n      <td>24.69</td>\n      <td>16.16</td>\n      <td>8.31</td>\n      <td>6108.0</td>\n      <td>Moderna, Pfizer/BioNTech</td>\n      <td>Centers for Disease Control and Prevention</td>\n      <td>https://covid.cdc.gov/covid-data-tracker/#vacc...</td>\n    </tr>\n    <tr>\n      <td>5327</td>\n      <td>United States</td>\n      <td>USA</td>\n      <td>2021-03-03</td>\n      <td>80540474.0</td>\n      <td>52855579.0</td>\n      <td>26957804.0</td>\n      <td>1908873.0</td>\n      <td>2010790.0</td>\n      <td>24.08</td>\n      <td>15.80</td>\n      <td>8.06</td>\n      <td>6012.0</td>\n      <td>Moderna, Pfizer/BioNTech</td>\n      <td>Centers for Disease Control and Prevention</td>\n      <td>https://covid.cdc.gov/covid-data-tracker/#vacc...</td>\n    </tr>\n  </tbody>\n</table>\n</div>"
     },
     "metadata": {},
     "execution_count": 14
    }
   ],
   "source": [
    "df_2.sort_values('daily_vaccinations', ascending=False).head()"
   ]
  },
  {
   "cell_type": "code",
   "execution_count": null,
   "metadata": {},
   "outputs": [],
   "source": []
  }
 ],
 "metadata": {
  "kernelspec": {
   "display_name": "Python 3",
   "language": "python",
   "name": "python3"
  },
  "language_info": {
   "codemirror_mode": {
    "name": "ipython",
    "version": 3
   },
   "file_extension": ".py",
   "mimetype": "text/x-python",
   "name": "python",
   "nbconvert_exporter": "python",
   "pygments_lexer": "ipython3",
   "version": "3.7.4-final"
  }
 },
 "nbformat": 4,
 "nbformat_minor": 2
}