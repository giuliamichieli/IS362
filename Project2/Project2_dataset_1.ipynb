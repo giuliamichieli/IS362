{
 "cells": [
  {
   "cell_type": "markdown",
   "metadata": {},
   "source": [
    "# Project 2\n"
   ]
  },
  {
   "cell_type": "markdown",
   "metadata": {},
   "source": [
    "### Dataset 1"
   ]
  },
  {
   "cell_type": "code",
   "execution_count": 1,
   "metadata": {},
   "outputs": [],
   "source": [
    "# Import libraries\n",
    "import pandas as pd\n",
    "import sys"
   ]
  },
  {
   "cell_type": "code",
   "execution_count": 2,
   "metadata": {},
   "outputs": [
    {
     "output_type": "stream",
     "name": "stdout",
     "text": [
      "   id    name  phone sex and age test number  term 1  term 2  term 3\n0   1    Mike    134        m_12      test 1      76      84      87\n1   2   Linda    270        f_13      test 1      88      90      73\n2   3     Sam    210        m_11      test 1      78      74      80\n3   4  Esther    617        f_12      test 1      68      75      74\n4   5    Mary    114        f_14      test 1      65      67      64\n5   1    Mike    134        m_12      test 2      85      80      90\n6   2   Linda    270        f_13      test 2      87      82      94\n7   3     Sam    210        m_11      test 2      80      87      80\n8   4  Esther    617        f_12      test 2      70      75      78\n9   5    Mary    114        f_14      test 2      68      70      63\n"
     ]
    }
   ],
   "source": [
    "# loading first dataset\n",
    "df_1 = pd.read_csv('dataset_1.csv')\n",
    "print(df_1)\n"
   ]
  },
  {
   "cell_type": "code",
   "execution_count": 3,
   "metadata": {},
   "outputs": [],
   "source": [
    "# Multiple types of observational units are stored in the same table\n",
    "df_students = df_1[['id', 'name', 'phone', 'sex and age']]\n",
    "df_data = df_1[['id', 'test number', 'term 1', 'term 2', 'term 3']]\n"
   ]
  },
  {
   "cell_type": "code",
   "execution_count": 7,
   "metadata": {},
   "outputs": [
    {
     "output_type": "execute_result",
     "data": {
      "text/plain": [
       "   id    name  phone     sex age\n",
       "0   1    Mike    134    male  12\n",
       "1   2   Linda    270  female  13\n",
       "2   3     Sam    210    male  11\n",
       "3   4  Esther    617  female  12\n",
       "4   5    Mary    114  female  14\n",
       "5   1    Mike    134    male  12\n",
       "6   2   Linda    270  female  13\n",
       "7   3     Sam    210    male  11\n",
       "8   4  Esther    617  female  12\n",
       "9   5    Mary    114  female  14"
      ],
      "text/html": "<div>\n<style scoped>\n    .dataframe tbody tr th:only-of-type {\n        vertical-align: middle;\n    }\n\n    .dataframe tbody tr th {\n        vertical-align: top;\n    }\n\n    .dataframe thead th {\n        text-align: right;\n    }\n</style>\n<table border=\"1\" class=\"dataframe\">\n  <thead>\n    <tr style=\"text-align: right;\">\n      <th></th>\n      <th>id</th>\n      <th>name</th>\n      <th>phone</th>\n      <th>sex</th>\n      <th>age</th>\n    </tr>\n  </thead>\n  <tbody>\n    <tr>\n      <td>0</td>\n      <td>1</td>\n      <td>Mike</td>\n      <td>134</td>\n      <td>male</td>\n      <td>12</td>\n    </tr>\n    <tr>\n      <td>1</td>\n      <td>2</td>\n      <td>Linda</td>\n      <td>270</td>\n      <td>female</td>\n      <td>13</td>\n    </tr>\n    <tr>\n      <td>2</td>\n      <td>3</td>\n      <td>Sam</td>\n      <td>210</td>\n      <td>male</td>\n      <td>11</td>\n    </tr>\n    <tr>\n      <td>3</td>\n      <td>4</td>\n      <td>Esther</td>\n      <td>617</td>\n      <td>female</td>\n      <td>12</td>\n    </tr>\n    <tr>\n      <td>4</td>\n      <td>5</td>\n      <td>Mary</td>\n      <td>114</td>\n      <td>female</td>\n      <td>14</td>\n    </tr>\n    <tr>\n      <td>5</td>\n      <td>1</td>\n      <td>Mike</td>\n      <td>134</td>\n      <td>male</td>\n      <td>12</td>\n    </tr>\n    <tr>\n      <td>6</td>\n      <td>2</td>\n      <td>Linda</td>\n      <td>270</td>\n      <td>female</td>\n      <td>13</td>\n    </tr>\n    <tr>\n      <td>7</td>\n      <td>3</td>\n      <td>Sam</td>\n      <td>210</td>\n      <td>male</td>\n      <td>11</td>\n    </tr>\n    <tr>\n      <td>8</td>\n      <td>4</td>\n      <td>Esther</td>\n      <td>617</td>\n      <td>female</td>\n      <td>12</td>\n    </tr>\n    <tr>\n      <td>9</td>\n      <td>5</td>\n      <td>Mary</td>\n      <td>114</td>\n      <td>female</td>\n      <td>14</td>\n    </tr>\n  </tbody>\n</table>\n</div>"
     },
     "metadata": {},
     "execution_count": 7
    }
   ],
   "source": [
    "def split_sex_and_age(row):\n",
    "    [sex, age] = row['sex and age'].split('_')\n",
    "    sex = 'male' if sex == 'm' else 'female'\n",
    "    return pd.Series([sex, age])\n",
    "\n",
    "#  'sex and age' column needs to be split into 2, and drop the original column\n",
    "df_students[['sex', 'age']] = df_students.apply(lambda row: split_sex_and_age(row), axis=1)\n",
    "df_students.drop(['sex and age'], axis=1, inplace=True)\n",
    "\n",
    "df_students"
   ]
  },
  {
   "source": [
    "## Data df"
   ],
   "cell_type": "markdown",
   "metadata": {}
  },
  {
   "cell_type": "code",
   "execution_count": 4,
   "metadata": {},
   "outputs": [
    {
     "output_type": "execute_result",
     "data": {
      "text/plain": [
       "   id test number term  marks\n",
       "0   1      test 1    1     76\n",
       "1   2      test 1    1     88\n",
       "2   3      test 1    1     78\n",
       "3   4      test 1    1     68\n",
       "4   5      test 1    1     65"
      ],
      "text/html": "<div>\n<style scoped>\n    .dataframe tbody tr th:only-of-type {\n        vertical-align: middle;\n    }\n\n    .dataframe tbody tr th {\n        vertical-align: top;\n    }\n\n    .dataframe thead th {\n        text-align: right;\n    }\n</style>\n<table border=\"1\" class=\"dataframe\">\n  <thead>\n    <tr style=\"text-align: right;\">\n      <th></th>\n      <th>id</th>\n      <th>test number</th>\n      <th>term</th>\n      <th>marks</th>\n    </tr>\n  </thead>\n  <tbody>\n    <tr>\n      <td>0</td>\n      <td>1</td>\n      <td>test 1</td>\n      <td>1</td>\n      <td>76</td>\n    </tr>\n    <tr>\n      <td>1</td>\n      <td>2</td>\n      <td>test 1</td>\n      <td>1</td>\n      <td>88</td>\n    </tr>\n    <tr>\n      <td>2</td>\n      <td>3</td>\n      <td>test 1</td>\n      <td>1</td>\n      <td>78</td>\n    </tr>\n    <tr>\n      <td>3</td>\n      <td>4</td>\n      <td>test 1</td>\n      <td>1</td>\n      <td>68</td>\n    </tr>\n    <tr>\n      <td>4</td>\n      <td>5</td>\n      <td>test 1</td>\n      <td>1</td>\n      <td>65</td>\n    </tr>\n  </tbody>\n</table>\n</div>"
     },
     "metadata": {},
     "execution_count": 4
    }
   ],
   "source": [
    "# Some column headers are values (term 1, term 2 and term 3), not variable names.\n",
    "df_data_processed = pd.melt(df_data, id_vars=['id', 'test number'], var_name='term', value_name='marks')\n",
    "# clean text from value\n",
    "df_data_processed['term'] = df_data_processed.apply(lambda row: row['term'].split()[1], axis=1)\n",
    "\n",
    "df_data_processed.head()"
   ]
  },
  {
   "cell_type": "code",
   "execution_count": 5,
   "metadata": {},
   "outputs": [],
   "source": [
    "# multiple variables in a column\n",
    "def get_marks_for_tests(dataset, row):\n",
    "\tstudent_id = row['id']\n",
    "\tterm = row['term']\n",
    "\ttest1_observation = dataset.loc[(dataset['id'] == student_id) & (dataset['term'] == term) & (dataset['test number'] == 'test 1')].iloc[0]\n",
    "\ttest2_observation = dataset.loc[(dataset['id'] == student_id) & (dataset['term'] == term) & (dataset['test number'] == 'test 2')].iloc[0]\n",
    "\n",
    "\ttest1_marks = test1_observation['marks']\n",
    "\ttest2_marks = test2_observation['marks']\n",
    "\n",
    "\treturn pd.Series([test1_marks, test2_marks])\n",
    "\n",
    "# marks for each term\n",
    "df_data_processed[['test 1 marks', 'test 2 marks']] = df_data_processed.apply(\n",
    "\tlambda row: get_marks_for_tests(df_data_processed, row), axis=1)"
   ]
  },
  {
   "cell_type": "code",
   "execution_count": 6,
   "metadata": {},
   "outputs": [
    {
     "output_type": "execute_result",
     "data": {
      "text/plain": [
       "   id test number term  marks  test 1 marks  test 2 marks\n",
       "0   1      test 1    1     76            76            85\n",
       "1   2      test 1    1     88            88            87\n",
       "2   3      test 1    1     78            78            80\n",
       "3   4      test 1    1     68            68            70\n",
       "4   5      test 1    1     65            65            68"
      ],
      "text/html": "<div>\n<style scoped>\n    .dataframe tbody tr th:only-of-type {\n        vertical-align: middle;\n    }\n\n    .dataframe tbody tr th {\n        vertical-align: top;\n    }\n\n    .dataframe thead th {\n        text-align: right;\n    }\n</style>\n<table border=\"1\" class=\"dataframe\">\n  <thead>\n    <tr style=\"text-align: right;\">\n      <th></th>\n      <th>id</th>\n      <th>test number</th>\n      <th>term</th>\n      <th>marks</th>\n      <th>test 1 marks</th>\n      <th>test 2 marks</th>\n    </tr>\n  </thead>\n  <tbody>\n    <tr>\n      <td>0</td>\n      <td>1</td>\n      <td>test 1</td>\n      <td>1</td>\n      <td>76</td>\n      <td>76</td>\n      <td>85</td>\n    </tr>\n    <tr>\n      <td>1</td>\n      <td>2</td>\n      <td>test 1</td>\n      <td>1</td>\n      <td>88</td>\n      <td>88</td>\n      <td>87</td>\n    </tr>\n    <tr>\n      <td>2</td>\n      <td>3</td>\n      <td>test 1</td>\n      <td>1</td>\n      <td>78</td>\n      <td>78</td>\n      <td>80</td>\n    </tr>\n    <tr>\n      <td>3</td>\n      <td>4</td>\n      <td>test 1</td>\n      <td>1</td>\n      <td>68</td>\n      <td>68</td>\n      <td>70</td>\n    </tr>\n    <tr>\n      <td>4</td>\n      <td>5</td>\n      <td>test 1</td>\n      <td>1</td>\n      <td>65</td>\n      <td>65</td>\n      <td>68</td>\n    </tr>\n  </tbody>\n</table>\n</div>"
     },
     "metadata": {},
     "execution_count": 6
    }
   ],
   "source": [
    "df_data_processed.head()"
   ]
  },
  {
   "cell_type": "code",
   "execution_count": 8,
   "metadata": {},
   "outputs": [
    {
     "output_type": "execute_result",
     "data": {
      "text/plain": [
       "    id term  test 1 marks  test 2 marks\n",
       "0    1    1            76            85\n",
       "10   1    2            84            80\n",
       "20   1    3            87            90\n",
       "1    2    1            88            87\n",
       "11   2    2            90            82\n",
       "21   2    3            73            94\n",
       "2    3    1            78            80\n",
       "12   3    2            74            87\n",
       "22   3    3            80            80\n",
       "3    4    1            68            70\n",
       "13   4    2            75            75\n",
       "23   4    3            74            78\n",
       "4    5    1            65            68\n",
       "14   5    2            67            70\n",
       "24   5    3            64            63"
      ],
      "text/html": "<div>\n<style scoped>\n    .dataframe tbody tr th:only-of-type {\n        vertical-align: middle;\n    }\n\n    .dataframe tbody tr th {\n        vertical-align: top;\n    }\n\n    .dataframe thead th {\n        text-align: right;\n    }\n</style>\n<table border=\"1\" class=\"dataframe\">\n  <thead>\n    <tr style=\"text-align: right;\">\n      <th></th>\n      <th>id</th>\n      <th>term</th>\n      <th>test 1 marks</th>\n      <th>test 2 marks</th>\n    </tr>\n  </thead>\n  <tbody>\n    <tr>\n      <td>0</td>\n      <td>1</td>\n      <td>1</td>\n      <td>76</td>\n      <td>85</td>\n    </tr>\n    <tr>\n      <td>10</td>\n      <td>1</td>\n      <td>2</td>\n      <td>84</td>\n      <td>80</td>\n    </tr>\n    <tr>\n      <td>20</td>\n      <td>1</td>\n      <td>3</td>\n      <td>87</td>\n      <td>90</td>\n    </tr>\n    <tr>\n      <td>1</td>\n      <td>2</td>\n      <td>1</td>\n      <td>88</td>\n      <td>87</td>\n    </tr>\n    <tr>\n      <td>11</td>\n      <td>2</td>\n      <td>2</td>\n      <td>90</td>\n      <td>82</td>\n    </tr>\n    <tr>\n      <td>21</td>\n      <td>2</td>\n      <td>3</td>\n      <td>73</td>\n      <td>94</td>\n    </tr>\n    <tr>\n      <td>2</td>\n      <td>3</td>\n      <td>1</td>\n      <td>78</td>\n      <td>80</td>\n    </tr>\n    <tr>\n      <td>12</td>\n      <td>3</td>\n      <td>2</td>\n      <td>74</td>\n      <td>87</td>\n    </tr>\n    <tr>\n      <td>22</td>\n      <td>3</td>\n      <td>3</td>\n      <td>80</td>\n      <td>80</td>\n    </tr>\n    <tr>\n      <td>3</td>\n      <td>4</td>\n      <td>1</td>\n      <td>68</td>\n      <td>70</td>\n    </tr>\n    <tr>\n      <td>13</td>\n      <td>4</td>\n      <td>2</td>\n      <td>75</td>\n      <td>75</td>\n    </tr>\n    <tr>\n      <td>23</td>\n      <td>4</td>\n      <td>3</td>\n      <td>74</td>\n      <td>78</td>\n    </tr>\n    <tr>\n      <td>4</td>\n      <td>5</td>\n      <td>1</td>\n      <td>65</td>\n      <td>68</td>\n    </tr>\n    <tr>\n      <td>14</td>\n      <td>5</td>\n      <td>2</td>\n      <td>67</td>\n      <td>70</td>\n    </tr>\n    <tr>\n      <td>24</td>\n      <td>5</td>\n      <td>3</td>\n      <td>64</td>\n      <td>63</td>\n    </tr>\n  </tbody>\n</table>\n</div>"
     },
     "metadata": {},
     "execution_count": 8
    }
   ],
   "source": [
    "# drop columns ('marks' and 'test number')\n",
    "df_data_processed.drop(['marks', 'test number'], axis=1, inplace=True)\n",
    "# drop duplicates\n",
    "df_data_processed.drop_duplicates(['id', 'term'], keep='first', inplace=True)\n",
    "# sort by id\n",
    "df_data_processed.sort_values(by=['id'], inplace=True)\n",
    "\n",
    "df_data_processed"
   ]
  },
  {
   "source": [
    "# Analysis"
   ],
   "cell_type": "markdown",
   "metadata": {}
  },
  {
   "source": [
    "\n"
   ],
   "cell_type": "markdown",
   "metadata": {}
  },
  {
   "source": [
    "### 1 .Analysis on performance by tests"
   ],
   "cell_type": "markdown",
   "metadata": {}
  },
  {
   "cell_type": "code",
   "execution_count": 9,
   "metadata": {},
   "outputs": [
    {
     "output_type": "execute_result",
     "data": {
      "text/plain": [
       "test 1 marks    76.200000\n",
       "test 2 marks    79.266667\n",
       "dtype: float64"
      ]
     },
     "metadata": {},
     "execution_count": 9
    }
   ],
   "source": [
    "df_data_processed[[\"test 1 marks\", \"test 2 marks\"]].mean()"
   ]
  },
  {
   "source": [
    "Test 2 performed better because GPA was better"
   ],
   "cell_type": "markdown",
   "metadata": {}
  },
  {
   "source": [
    "### 2. You can get an average per term and test"
   ],
   "cell_type": "markdown",
   "metadata": {}
  },
  {
   "cell_type": "code",
   "execution_count": 10,
   "metadata": {},
   "outputs": [
    {
     "output_type": "execute_result",
     "data": {
      "text/plain": [
       "      test 1 marks  test 2 marks\n",
       "term                            \n",
       "1             75.0          78.0\n",
       "2             78.0          78.8\n",
       "3             75.6          81.0"
      ],
      "text/html": "<div>\n<style scoped>\n    .dataframe tbody tr th:only-of-type {\n        vertical-align: middle;\n    }\n\n    .dataframe tbody tr th {\n        vertical-align: top;\n    }\n\n    .dataframe thead th {\n        text-align: right;\n    }\n</style>\n<table border=\"1\" class=\"dataframe\">\n  <thead>\n    <tr style=\"text-align: right;\">\n      <th></th>\n      <th>test 1 marks</th>\n      <th>test 2 marks</th>\n    </tr>\n    <tr>\n      <th>term</th>\n      <th></th>\n      <th></th>\n    </tr>\n  </thead>\n  <tbody>\n    <tr>\n      <td>1</td>\n      <td>75.0</td>\n      <td>78.0</td>\n    </tr>\n    <tr>\n      <td>2</td>\n      <td>78.0</td>\n      <td>78.8</td>\n    </tr>\n    <tr>\n      <td>3</td>\n      <td>75.6</td>\n      <td>81.0</td>\n    </tr>\n  </tbody>\n</table>\n</div>"
     },
     "metadata": {},
     "execution_count": 10
    }
   ],
   "source": [
    "df_data_processed.groupby(\"term\")[[\"test 1 marks\", \"test 2 marks\"]].mean()"
   ]
  },
  {
   "source": [
    "### 3. Analysis by sex"
   ],
   "cell_type": "markdown",
   "metadata": {}
  },
  {
   "cell_type": "code",
   "execution_count": 11,
   "metadata": {},
   "outputs": [
    {
     "output_type": "execute_result",
     "data": {
      "text/plain": [
       "        test 1 marks  test 2 marks\n",
       "sex                               \n",
       "female     73.777778     76.333333\n",
       "male       79.833333     83.666667"
      ],
      "text/html": "<div>\n<style scoped>\n    .dataframe tbody tr th:only-of-type {\n        vertical-align: middle;\n    }\n\n    .dataframe tbody tr th {\n        vertical-align: top;\n    }\n\n    .dataframe thead th {\n        text-align: right;\n    }\n</style>\n<table border=\"1\" class=\"dataframe\">\n  <thead>\n    <tr style=\"text-align: right;\">\n      <th></th>\n      <th>test 1 marks</th>\n      <th>test 2 marks</th>\n    </tr>\n    <tr>\n      <th>sex</th>\n      <th></th>\n      <th></th>\n    </tr>\n  </thead>\n  <tbody>\n    <tr>\n      <td>female</td>\n      <td>73.777778</td>\n      <td>76.333333</td>\n    </tr>\n    <tr>\n      <td>male</td>\n      <td>79.833333</td>\n      <td>83.666667</td>\n    </tr>\n  </tbody>\n</table>\n</div>"
     },
     "metadata": {},
     "execution_count": 11
    }
   ],
   "source": [
    "# firt we must join data\n",
    "df_joined = df_data_processed.join(df_students[[\"id\", \"sex\"]].set_index('id'), on='id')\n",
    "\n",
    "df_joined.groupby(\"sex\")[[\"test 1 marks\", \"test 2 marks\"]].mean()"
   ]
  },
  {
   "source": [
    "### 4. Analysis by name\n"
   ],
   "cell_type": "markdown",
   "metadata": {}
  },
  {
   "cell_type": "code",
   "execution_count": 12,
   "metadata": {},
   "outputs": [
    {
     "output_type": "execute_result",
     "data": {
      "text/plain": [
       "        test 1 marks  test 2 marks\n",
       "name                              \n",
       "Esther     72.333333     74.333333\n",
       "Linda      83.666667     87.666667\n",
       "Mary       65.333333     67.000000\n",
       "Mike       82.333333     85.000000\n",
       "Sam        77.333333     82.333333"
      ],
      "text/html": "<div>\n<style scoped>\n    .dataframe tbody tr th:only-of-type {\n        vertical-align: middle;\n    }\n\n    .dataframe tbody tr th {\n        vertical-align: top;\n    }\n\n    .dataframe thead th {\n        text-align: right;\n    }\n</style>\n<table border=\"1\" class=\"dataframe\">\n  <thead>\n    <tr style=\"text-align: right;\">\n      <th></th>\n      <th>test 1 marks</th>\n      <th>test 2 marks</th>\n    </tr>\n    <tr>\n      <th>name</th>\n      <th></th>\n      <th></th>\n    </tr>\n  </thead>\n  <tbody>\n    <tr>\n      <td>Esther</td>\n      <td>72.333333</td>\n      <td>74.333333</td>\n    </tr>\n    <tr>\n      <td>Linda</td>\n      <td>83.666667</td>\n      <td>87.666667</td>\n    </tr>\n    <tr>\n      <td>Mary</td>\n      <td>65.333333</td>\n      <td>67.000000</td>\n    </tr>\n    <tr>\n      <td>Mike</td>\n      <td>82.333333</td>\n      <td>85.000000</td>\n    </tr>\n    <tr>\n      <td>Sam</td>\n      <td>77.333333</td>\n      <td>82.333333</td>\n    </tr>\n  </tbody>\n</table>\n</div>"
     },
     "metadata": {},
     "execution_count": 12
    }
   ],
   "source": [
    "# firt we must join data\n",
    "df_joined_name = df_data_processed.join(df_students[[\"id\", \"name\"]].set_index('id'), on='id')\n",
    "\n",
    "df_joined_name.groupby(\"name\")[[\"test 1 marks\", \"test 2 marks\"]].mean()\n"
   ]
  }
 ],
 "metadata": {
  "kernelspec": {
   "display_name": "Python 3",
   "language": "python",
   "name": "python3"
  },
  "language_info": {
   "codemirror_mode": {
    "name": "ipython",
    "version": 3
   },
   "file_extension": ".py",
   "mimetype": "text/x-python",
   "name": "python",
   "nbconvert_exporter": "python",
   "pygments_lexer": "ipython3",
   "version": "3.7.4-final"
  }
 },
 "nbformat": 4,
 "nbformat_minor": 2
}