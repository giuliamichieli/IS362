{
 "cells": [
  {
   "cell_type": "markdown",
   "metadata": {},
   "source": [
    "# Assignment 5\n",
    "\n",
    "\n",
    "Your task in this week’s assignment is to answer three questions:\n",
    "1. What is the northernmost airport in the United States?\n",
    "2. What is the easternmost airport in the United States?\n",
    "3. On February 12th, 2013, which New York area airport had the windiest weather?\n",
    "Being successful on this assignment requires using both:\n",
    "• Your developing skills in Python and pandas, and\n",
    "• Your research skills in validating your candidate answers in context."
   ]
  },
  {
   "cell_type": "markdown",
   "metadata": {},
   "source": [
    "### Data"
   ]
  },
  {
   "cell_type": "code",
   "execution_count": 2,
   "metadata": {},
   "outputs": [],
   "source": [
    "# Import libraries\n",
    "import pandas as pd\n",
    "import sys"
   ]
  },
  {
   "cell_type": "code",
   "execution_count": 65,
   "metadata": {},
   "outputs": [
    {
     "output_type": "stream",
     "name": "stdout",
     "text": [
      "airports\n",
      "weather\n",
      "dict_keys(['airports', 'weather'])\n"
     ]
    }
   ],
   "source": [
    "# airlines\n",
    "files = ['airports', 'weather']\n",
    "\n",
    "dfs = {}\n",
    "for f in files:\n",
    "    print(f)\n",
    "    dfs[f] = pd.read_csv(f'https://raw.githubusercontent.com/hadley/nycflights13/master/data-raw/{f}.csv')\n",
    "    \n",
    "print(dfs.keys())"
   ]
  },
  {
   "cell_type": "markdown",
   "metadata": {},
   "source": [
    "# Analysis"
   ]
  },
  {
   "source": [
    "## 1. What is the northernmost airport in the United States?"
   ],
   "cell_type": "markdown",
   "metadata": {}
  },
  {
   "cell_type": "code",
   "execution_count": 66,
   "metadata": {},
   "outputs": [
    {
     "output_type": "execute_result",
     "data": {
      "text/plain": [
       "faa                          EEN\n",
       "name     Dillant Hopkins Airport\n",
       "lat                      72.2708\n",
       "lon                      42.8983\n",
       "alt                          149\n",
       "tz                            -5\n",
       "dst                            A\n",
       "tzone                        NaN\n",
       "Name: 417, dtype: object"
      ]
     },
     "metadata": {},
     "execution_count": 66
    }
   ],
   "source": [
    "dfs[\"airports\"].iloc[dfs[\"airports\"]['lat'].idxmax()]"
   ]
  },
  {
   "cell_type": "code",
   "execution_count": 67,
   "metadata": {},
   "outputs": [
    {
     "output_type": "execute_result",
     "data": {
      "text/plain": [
       "     faa                                        name        lat         lon  \\\n",
       "417  EEN                     Dillant Hopkins Airport  72.270833   42.898333   \n",
       "230  BRW                  Wiley Post Will Rogers Mem  71.285446 -156.766003   \n",
       "110  AIN                          Wainwright Airport  70.638056 -159.994722   \n",
       "708  K03                               Wainwright As  70.613378 -159.860350   \n",
       "152  ATK  Atqasuk Edward Burnell Sr Memorial Airport  70.467300 -157.436000   \n",
       "\n",
       "     alt  tz dst              tzone  \n",
       "417  149  -5   A                NaN  \n",
       "230   44  -9   A  America/Anchorage  \n",
       "110   41  -9   A  America/Anchorage  \n",
       "708   35  -9   A  America/Anchorage  \n",
       "152   96  -9   A  America/Anchorage  "
      ],
      "text/html": "<div>\n<style scoped>\n    .dataframe tbody tr th:only-of-type {\n        vertical-align: middle;\n    }\n\n    .dataframe tbody tr th {\n        vertical-align: top;\n    }\n\n    .dataframe thead th {\n        text-align: right;\n    }\n</style>\n<table border=\"1\" class=\"dataframe\">\n  <thead>\n    <tr style=\"text-align: right;\">\n      <th></th>\n      <th>faa</th>\n      <th>name</th>\n      <th>lat</th>\n      <th>lon</th>\n      <th>alt</th>\n      <th>tz</th>\n      <th>dst</th>\n      <th>tzone</th>\n    </tr>\n  </thead>\n  <tbody>\n    <tr>\n      <td>417</td>\n      <td>EEN</td>\n      <td>Dillant Hopkins Airport</td>\n      <td>72.270833</td>\n      <td>42.898333</td>\n      <td>149</td>\n      <td>-5</td>\n      <td>A</td>\n      <td>NaN</td>\n    </tr>\n    <tr>\n      <td>230</td>\n      <td>BRW</td>\n      <td>Wiley Post Will Rogers Mem</td>\n      <td>71.285446</td>\n      <td>-156.766003</td>\n      <td>44</td>\n      <td>-9</td>\n      <td>A</td>\n      <td>America/Anchorage</td>\n    </tr>\n    <tr>\n      <td>110</td>\n      <td>AIN</td>\n      <td>Wainwright Airport</td>\n      <td>70.638056</td>\n      <td>-159.994722</td>\n      <td>41</td>\n      <td>-9</td>\n      <td>A</td>\n      <td>America/Anchorage</td>\n    </tr>\n    <tr>\n      <td>708</td>\n      <td>K03</td>\n      <td>Wainwright As</td>\n      <td>70.613378</td>\n      <td>-159.860350</td>\n      <td>35</td>\n      <td>-9</td>\n      <td>A</td>\n      <td>America/Anchorage</td>\n    </tr>\n    <tr>\n      <td>152</td>\n      <td>ATK</td>\n      <td>Atqasuk Edward Burnell Sr Memorial Airport</td>\n      <td>70.467300</td>\n      <td>-157.436000</td>\n      <td>96</td>\n      <td>-9</td>\n      <td>A</td>\n      <td>America/Anchorage</td>\n    </tr>\n  </tbody>\n</table>\n</div>"
     },
     "metadata": {},
     "execution_count": 67
    }
   ],
   "source": [
    "dfs[\"airports\"].sort_values(by=['lat'], ascending=False).head()"
   ]
  },
  {
   "cell_type": "markdown",
   "metadata": {},
   "source": [
    "If we look at the header data sorted by \"lat\", we can see that Dillant Hopkins Airport is the northernmost airport, but when we check this data, we find that it is incorrect (lat and long were changed).\n",
    "Then, the northernmost airport in US is Wiley Post Will Rogers Mem (71.285446, -156.766003)"
   ]
  },
  {
   "source": [
    "## 2. What is the easternmost airport in the United States?\n"
   ],
   "cell_type": "markdown",
   "metadata": {}
  },
  {
   "cell_type": "code",
   "execution_count": 68,
   "metadata": {},
   "outputs": [
    {
     "output_type": "execute_result",
     "data": {
      "text/plain": [
       "faa                    ADK\n",
       "name          Adak Airport\n",
       "lat                 51.878\n",
       "lon               -176.646\n",
       "alt                     18\n",
       "tz                      -9\n",
       "dst                      A\n",
       "tzone    America/Anchorage\n",
       "Name: 95, dtype: object"
      ]
     },
     "metadata": {},
     "execution_count": 68
    }
   ],
   "source": [
    "dfs[\"airports\"].iloc[dfs[\"airports\"]['lon'].idxmin()]"
   ]
  },
  {
   "cell_type": "code",
   "execution_count": 69,
   "metadata": {},
   "outputs": [
    {
     "output_type": "execute_result",
     "data": {
      "text/plain": [
       "      faa              name        lat         lon  alt  tz dst  \\\n",
       "95    ADK      Adak Airport  51.878000 -176.646000   18  -9   A   \n",
       "112   AKB      Atka Airport  52.220278 -174.206389   56  -9   A   \n",
       "522   GAM   Gambell Airport  63.766800 -171.733000   27  -9   A   \n",
       "1281  SVA  Savoonga Airport  63.686400 -170.493000   53  -9   A   \n",
       "1251  SNP    St Paul Island  57.167333 -170.220444   63  -9   A   \n",
       "\n",
       "                  tzone  \n",
       "95    America/Anchorage  \n",
       "112   America/Anchorage  \n",
       "522   America/Anchorage  \n",
       "1281  America/Anchorage  \n",
       "1251  America/Anchorage  "
      ],
      "text/html": "<div>\n<style scoped>\n    .dataframe tbody tr th:only-of-type {\n        vertical-align: middle;\n    }\n\n    .dataframe tbody tr th {\n        vertical-align: top;\n    }\n\n    .dataframe thead th {\n        text-align: right;\n    }\n</style>\n<table border=\"1\" class=\"dataframe\">\n  <thead>\n    <tr style=\"text-align: right;\">\n      <th></th>\n      <th>faa</th>\n      <th>name</th>\n      <th>lat</th>\n      <th>lon</th>\n      <th>alt</th>\n      <th>tz</th>\n      <th>dst</th>\n      <th>tzone</th>\n    </tr>\n  </thead>\n  <tbody>\n    <tr>\n      <td>95</td>\n      <td>ADK</td>\n      <td>Adak Airport</td>\n      <td>51.878000</td>\n      <td>-176.646000</td>\n      <td>18</td>\n      <td>-9</td>\n      <td>A</td>\n      <td>America/Anchorage</td>\n    </tr>\n    <tr>\n      <td>112</td>\n      <td>AKB</td>\n      <td>Atka Airport</td>\n      <td>52.220278</td>\n      <td>-174.206389</td>\n      <td>56</td>\n      <td>-9</td>\n      <td>A</td>\n      <td>America/Anchorage</td>\n    </tr>\n    <tr>\n      <td>522</td>\n      <td>GAM</td>\n      <td>Gambell Airport</td>\n      <td>63.766800</td>\n      <td>-171.733000</td>\n      <td>27</td>\n      <td>-9</td>\n      <td>A</td>\n      <td>America/Anchorage</td>\n    </tr>\n    <tr>\n      <td>1281</td>\n      <td>SVA</td>\n      <td>Savoonga Airport</td>\n      <td>63.686400</td>\n      <td>-170.493000</td>\n      <td>53</td>\n      <td>-9</td>\n      <td>A</td>\n      <td>America/Anchorage</td>\n    </tr>\n    <tr>\n      <td>1251</td>\n      <td>SNP</td>\n      <td>St Paul Island</td>\n      <td>57.167333</td>\n      <td>-170.220444</td>\n      <td>63</td>\n      <td>-9</td>\n      <td>A</td>\n      <td>America/Anchorage</td>\n    </tr>\n  </tbody>\n</table>\n</div>"
     },
     "metadata": {},
     "execution_count": 69
    }
   ],
   "source": [
    "dfs[\"airports\"].sort_values(by=['lon'], ascending=True).head()"
   ]
  },
  {
   "source": [
    "The easternmost airport in US is Adak Airport (51.878000, -176.646000)"
   ],
   "cell_type": "markdown",
   "metadata": {}
  },
  {
   "source": [
    "## 3. On February 12th, 2013, which New York area airport had the windiest weather?"
   ],
   "cell_type": "markdown",
   "metadata": {}
  },
  {
   "source": [
    "I will analyze the data to find how to relate it, and fiew York area"
   ],
   "cell_type": "markdown",
   "metadata": {}
  },
  {
   "cell_type": "code",
   "execution_count": 71,
   "metadata": {},
   "outputs": [
    {
     "output_type": "execute_result",
     "data": {
      "text/plain": [
       "   faa                           name        lat        lon   alt  tz dst  \\\n",
       "0  04G              Lansdowne Airport  41.130472 -80.619583  1044  -5   A   \n",
       "1  06A  Moton Field Municipal Airport  32.460572 -85.680028   264  -6   A   \n",
       "2  06C            Schaumburg Regional  41.989341 -88.101243   801  -6   A   \n",
       "3  06N                Randall Airport  41.431912 -74.391561   523  -5   A   \n",
       "4  09J          Jekyll Island Airport  31.074472 -81.427778    11  -5   A   \n",
       "\n",
       "              tzone  \n",
       "0  America/New_York  \n",
       "1   America/Chicago  \n",
       "2   America/Chicago  \n",
       "3  America/New_York  \n",
       "4  America/New_York  "
      ],
      "text/html": "<div>\n<style scoped>\n    .dataframe tbody tr th:only-of-type {\n        vertical-align: middle;\n    }\n\n    .dataframe tbody tr th {\n        vertical-align: top;\n    }\n\n    .dataframe thead th {\n        text-align: right;\n    }\n</style>\n<table border=\"1\" class=\"dataframe\">\n  <thead>\n    <tr style=\"text-align: right;\">\n      <th></th>\n      <th>faa</th>\n      <th>name</th>\n      <th>lat</th>\n      <th>lon</th>\n      <th>alt</th>\n      <th>tz</th>\n      <th>dst</th>\n      <th>tzone</th>\n    </tr>\n  </thead>\n  <tbody>\n    <tr>\n      <td>0</td>\n      <td>04G</td>\n      <td>Lansdowne Airport</td>\n      <td>41.130472</td>\n      <td>-80.619583</td>\n      <td>1044</td>\n      <td>-5</td>\n      <td>A</td>\n      <td>America/New_York</td>\n    </tr>\n    <tr>\n      <td>1</td>\n      <td>06A</td>\n      <td>Moton Field Municipal Airport</td>\n      <td>32.460572</td>\n      <td>-85.680028</td>\n      <td>264</td>\n      <td>-6</td>\n      <td>A</td>\n      <td>America/Chicago</td>\n    </tr>\n    <tr>\n      <td>2</td>\n      <td>06C</td>\n      <td>Schaumburg Regional</td>\n      <td>41.989341</td>\n      <td>-88.101243</td>\n      <td>801</td>\n      <td>-6</td>\n      <td>A</td>\n      <td>America/Chicago</td>\n    </tr>\n    <tr>\n      <td>3</td>\n      <td>06N</td>\n      <td>Randall Airport</td>\n      <td>41.431912</td>\n      <td>-74.391561</td>\n      <td>523</td>\n      <td>-5</td>\n      <td>A</td>\n      <td>America/New_York</td>\n    </tr>\n    <tr>\n      <td>4</td>\n      <td>09J</td>\n      <td>Jekyll Island Airport</td>\n      <td>31.074472</td>\n      <td>-81.427778</td>\n      <td>11</td>\n      <td>-5</td>\n      <td>A</td>\n      <td>America/New_York</td>\n    </tr>\n  </tbody>\n</table>\n</div>"
     },
     "metadata": {},
     "execution_count": 71
    }
   ],
   "source": [
    "dfs[\"airports\"].head()"
   ]
  },
  {
   "cell_type": "code",
   "execution_count": 72,
   "metadata": {},
   "outputs": [
    {
     "output_type": "execute_result",
     "data": {
      "text/plain": [
       "  origin  year  month  day  hour   temp   dewp  humid  wind_dir  wind_speed  \\\n",
       "0    EWR  2013      1    1     1  39.02  26.06  59.37     270.0    10.35702   \n",
       "1    EWR  2013      1    1     2  39.02  26.96  61.63     250.0     8.05546   \n",
       "2    EWR  2013      1    1     3  39.02  28.04  64.43     240.0    11.50780   \n",
       "3    EWR  2013      1    1     4  39.92  28.04  62.21     250.0    12.65858   \n",
       "4    EWR  2013      1    1     5  39.02  28.04  64.43     260.0    12.65858   \n",
       "\n",
       "   wind_gust  precip  pressure  visib             time_hour  \n",
       "0        NaN     0.0    1012.0   10.0  2013-01-01T06:00:00Z  \n",
       "1        NaN     0.0    1012.3   10.0  2013-01-01T07:00:00Z  \n",
       "2        NaN     0.0    1012.5   10.0  2013-01-01T08:00:00Z  \n",
       "3        NaN     0.0    1012.2   10.0  2013-01-01T09:00:00Z  \n",
       "4        NaN     0.0    1011.9   10.0  2013-01-01T10:00:00Z  "
      ],
      "text/html": "<div>\n<style scoped>\n    .dataframe tbody tr th:only-of-type {\n        vertical-align: middle;\n    }\n\n    .dataframe tbody tr th {\n        vertical-align: top;\n    }\n\n    .dataframe thead th {\n        text-align: right;\n    }\n</style>\n<table border=\"1\" class=\"dataframe\">\n  <thead>\n    <tr style=\"text-align: right;\">\n      <th></th>\n      <th>origin</th>\n      <th>year</th>\n      <th>month</th>\n      <th>day</th>\n      <th>hour</th>\n      <th>temp</th>\n      <th>dewp</th>\n      <th>humid</th>\n      <th>wind_dir</th>\n      <th>wind_speed</th>\n      <th>wind_gust</th>\n      <th>precip</th>\n      <th>pressure</th>\n      <th>visib</th>\n      <th>time_hour</th>\n    </tr>\n  </thead>\n  <tbody>\n    <tr>\n      <td>0</td>\n      <td>EWR</td>\n      <td>2013</td>\n      <td>1</td>\n      <td>1</td>\n      <td>1</td>\n      <td>39.02</td>\n      <td>26.06</td>\n      <td>59.37</td>\n      <td>270.0</td>\n      <td>10.35702</td>\n      <td>NaN</td>\n      <td>0.0</td>\n      <td>1012.0</td>\n      <td>10.0</td>\n      <td>2013-01-01T06:00:00Z</td>\n    </tr>\n    <tr>\n      <td>1</td>\n      <td>EWR</td>\n      <td>2013</td>\n      <td>1</td>\n      <td>1</td>\n      <td>2</td>\n      <td>39.02</td>\n      <td>26.96</td>\n      <td>61.63</td>\n      <td>250.0</td>\n      <td>8.05546</td>\n      <td>NaN</td>\n      <td>0.0</td>\n      <td>1012.3</td>\n      <td>10.0</td>\n      <td>2013-01-01T07:00:00Z</td>\n    </tr>\n    <tr>\n      <td>2</td>\n      <td>EWR</td>\n      <td>2013</td>\n      <td>1</td>\n      <td>1</td>\n      <td>3</td>\n      <td>39.02</td>\n      <td>28.04</td>\n      <td>64.43</td>\n      <td>240.0</td>\n      <td>11.50780</td>\n      <td>NaN</td>\n      <td>0.0</td>\n      <td>1012.5</td>\n      <td>10.0</td>\n      <td>2013-01-01T08:00:00Z</td>\n    </tr>\n    <tr>\n      <td>3</td>\n      <td>EWR</td>\n      <td>2013</td>\n      <td>1</td>\n      <td>1</td>\n      <td>4</td>\n      <td>39.92</td>\n      <td>28.04</td>\n      <td>62.21</td>\n      <td>250.0</td>\n      <td>12.65858</td>\n      <td>NaN</td>\n      <td>0.0</td>\n      <td>1012.2</td>\n      <td>10.0</td>\n      <td>2013-01-01T09:00:00Z</td>\n    </tr>\n    <tr>\n      <td>4</td>\n      <td>EWR</td>\n      <td>2013</td>\n      <td>1</td>\n      <td>1</td>\n      <td>5</td>\n      <td>39.02</td>\n      <td>28.04</td>\n      <td>64.43</td>\n      <td>260.0</td>\n      <td>12.65858</td>\n      <td>NaN</td>\n      <td>0.0</td>\n      <td>1011.9</td>\n      <td>10.0</td>\n      <td>2013-01-01T10:00:00Z</td>\n    </tr>\n  </tbody>\n</table>\n</div>"
     },
     "metadata": {},
     "execution_count": 72
    }
   ],
   "source": [
    "dfs[\"weather\"].head()"
   ]
  },
  {
   "cell_type": "code",
   "execution_count": 80,
   "metadata": {},
   "outputs": [
    {
     "output_type": "execute_result",
     "data": {
      "text/plain": [
       "(26115, 15)"
      ]
     },
     "metadata": {},
     "execution_count": 80
    }
   ],
   "source": [
    "dfs[\"weather\"].shape"
   ]
  },
  {
   "source": [
    "Filter by date 2013-02-12"
   ],
   "cell_type": "markdown",
   "metadata": {}
  },
  {
   "cell_type": "code",
   "execution_count": 76,
   "metadata": {},
   "outputs": [
    {
     "output_type": "execute_result",
     "data": {
      "text/plain": [
       "      origin  year  month  day  hour   temp   dewp   humid  wind_dir  \\\n",
       "1001     EWR  2013      2   11    19  42.98  42.98  100.00       0.0   \n",
       "1002     EWR  2013      2   11    20  42.08  42.08  100.00     300.0   \n",
       "1003     EWR  2013      2   11    21  42.98  42.80  100.00     310.0   \n",
       "1004     EWR  2013      2   11    22  44.06  42.80  100.00     290.0   \n",
       "1005     EWR  2013      2   11    23  44.60  42.80   93.35     300.0   \n",
       "...      ...   ...    ...  ...   ...    ...    ...     ...       ...   \n",
       "18429    LGA  2013      2   12    14  44.06  23.00   43.02     300.0   \n",
       "18430    LGA  2013      2   12    15  44.06  21.92   41.10     260.0   \n",
       "18431    LGA  2013      2   12    16  42.98  24.08   46.91     300.0   \n",
       "18432    LGA  2013      2   12    17  42.98  23.00   44.83     260.0   \n",
       "18433    LGA  2013      2   12    18  41.00  21.92   46.23     260.0   \n",
       "\n",
       "       wind_speed  wind_gust  precip  pressure  visib             time_hour  \n",
       "1001      0.00000        NaN     0.0    1004.7    0.5  2013-02-12T00:00:00Z  \n",
       "1002      3.45234        NaN     0.0    1004.7    0.5  2013-02-12T01:00:00Z  \n",
       "1003      9.20624        NaN     0.0       NaN    1.5  2013-02-12T02:00:00Z  \n",
       "1004      9.20624        NaN     0.0       NaN    9.0  2013-02-12T03:00:00Z  \n",
       "1005      8.05546        NaN     0.0       NaN   10.0  2013-02-12T04:00:00Z  \n",
       "...           ...        ...     ...       ...    ...                   ...  \n",
       "18429    20.71404   25.31716     0.0    1011.5   10.0  2013-02-12T19:00:00Z  \n",
       "18430    17.26170   20.71404     0.0    1011.3   10.0  2013-02-12T20:00:00Z  \n",
       "18431     9.20624        NaN     0.0    1010.4   10.0  2013-02-12T21:00:00Z  \n",
       "18432    14.96014   21.86482     0.0    1013.6   10.0  2013-02-12T22:00:00Z  \n",
       "18433    17.26170   24.16638     0.0    1014.7   10.0  2013-02-12T23:00:00Z  \n",
       "\n",
       "[72 rows x 15 columns]"
      ],
      "text/html": "<div>\n<style scoped>\n    .dataframe tbody tr th:only-of-type {\n        vertical-align: middle;\n    }\n\n    .dataframe tbody tr th {\n        vertical-align: top;\n    }\n\n    .dataframe thead th {\n        text-align: right;\n    }\n</style>\n<table border=\"1\" class=\"dataframe\">\n  <thead>\n    <tr style=\"text-align: right;\">\n      <th></th>\n      <th>origin</th>\n      <th>year</th>\n      <th>month</th>\n      <th>day</th>\n      <th>hour</th>\n      <th>temp</th>\n      <th>dewp</th>\n      <th>humid</th>\n      <th>wind_dir</th>\n      <th>wind_speed</th>\n      <th>wind_gust</th>\n      <th>precip</th>\n      <th>pressure</th>\n      <th>visib</th>\n      <th>time_hour</th>\n    </tr>\n  </thead>\n  <tbody>\n    <tr>\n      <td>1001</td>\n      <td>EWR</td>\n      <td>2013</td>\n      <td>2</td>\n      <td>11</td>\n      <td>19</td>\n      <td>42.98</td>\n      <td>42.98</td>\n      <td>100.00</td>\n      <td>0.0</td>\n      <td>0.00000</td>\n      <td>NaN</td>\n      <td>0.0</td>\n      <td>1004.7</td>\n      <td>0.5</td>\n      <td>2013-02-12T00:00:00Z</td>\n    </tr>\n    <tr>\n      <td>1002</td>\n      <td>EWR</td>\n      <td>2013</td>\n      <td>2</td>\n      <td>11</td>\n      <td>20</td>\n      <td>42.08</td>\n      <td>42.08</td>\n      <td>100.00</td>\n      <td>300.0</td>\n      <td>3.45234</td>\n      <td>NaN</td>\n      <td>0.0</td>\n      <td>1004.7</td>\n      <td>0.5</td>\n      <td>2013-02-12T01:00:00Z</td>\n    </tr>\n    <tr>\n      <td>1003</td>\n      <td>EWR</td>\n      <td>2013</td>\n      <td>2</td>\n      <td>11</td>\n      <td>21</td>\n      <td>42.98</td>\n      <td>42.80</td>\n      <td>100.00</td>\n      <td>310.0</td>\n      <td>9.20624</td>\n      <td>NaN</td>\n      <td>0.0</td>\n      <td>NaN</td>\n      <td>1.5</td>\n      <td>2013-02-12T02:00:00Z</td>\n    </tr>\n    <tr>\n      <td>1004</td>\n      <td>EWR</td>\n      <td>2013</td>\n      <td>2</td>\n      <td>11</td>\n      <td>22</td>\n      <td>44.06</td>\n      <td>42.80</td>\n      <td>100.00</td>\n      <td>290.0</td>\n      <td>9.20624</td>\n      <td>NaN</td>\n      <td>0.0</td>\n      <td>NaN</td>\n      <td>9.0</td>\n      <td>2013-02-12T03:00:00Z</td>\n    </tr>\n    <tr>\n      <td>1005</td>\n      <td>EWR</td>\n      <td>2013</td>\n      <td>2</td>\n      <td>11</td>\n      <td>23</td>\n      <td>44.60</td>\n      <td>42.80</td>\n      <td>93.35</td>\n      <td>300.0</td>\n      <td>8.05546</td>\n      <td>NaN</td>\n      <td>0.0</td>\n      <td>NaN</td>\n      <td>10.0</td>\n      <td>2013-02-12T04:00:00Z</td>\n    </tr>\n    <tr>\n      <td>...</td>\n      <td>...</td>\n      <td>...</td>\n      <td>...</td>\n      <td>...</td>\n      <td>...</td>\n      <td>...</td>\n      <td>...</td>\n      <td>...</td>\n      <td>...</td>\n      <td>...</td>\n      <td>...</td>\n      <td>...</td>\n      <td>...</td>\n      <td>...</td>\n      <td>...</td>\n    </tr>\n    <tr>\n      <td>18429</td>\n      <td>LGA</td>\n      <td>2013</td>\n      <td>2</td>\n      <td>12</td>\n      <td>14</td>\n      <td>44.06</td>\n      <td>23.00</td>\n      <td>43.02</td>\n      <td>300.0</td>\n      <td>20.71404</td>\n      <td>25.31716</td>\n      <td>0.0</td>\n      <td>1011.5</td>\n      <td>10.0</td>\n      <td>2013-02-12T19:00:00Z</td>\n    </tr>\n    <tr>\n      <td>18430</td>\n      <td>LGA</td>\n      <td>2013</td>\n      <td>2</td>\n      <td>12</td>\n      <td>15</td>\n      <td>44.06</td>\n      <td>21.92</td>\n      <td>41.10</td>\n      <td>260.0</td>\n      <td>17.26170</td>\n      <td>20.71404</td>\n      <td>0.0</td>\n      <td>1011.3</td>\n      <td>10.0</td>\n      <td>2013-02-12T20:00:00Z</td>\n    </tr>\n    <tr>\n      <td>18431</td>\n      <td>LGA</td>\n      <td>2013</td>\n      <td>2</td>\n      <td>12</td>\n      <td>16</td>\n      <td>42.98</td>\n      <td>24.08</td>\n      <td>46.91</td>\n      <td>300.0</td>\n      <td>9.20624</td>\n      <td>NaN</td>\n      <td>0.0</td>\n      <td>1010.4</td>\n      <td>10.0</td>\n      <td>2013-02-12T21:00:00Z</td>\n    </tr>\n    <tr>\n      <td>18432</td>\n      <td>LGA</td>\n      <td>2013</td>\n      <td>2</td>\n      <td>12</td>\n      <td>17</td>\n      <td>42.98</td>\n      <td>23.00</td>\n      <td>44.83</td>\n      <td>260.0</td>\n      <td>14.96014</td>\n      <td>21.86482</td>\n      <td>0.0</td>\n      <td>1013.6</td>\n      <td>10.0</td>\n      <td>2013-02-12T22:00:00Z</td>\n    </tr>\n    <tr>\n      <td>18433</td>\n      <td>LGA</td>\n      <td>2013</td>\n      <td>2</td>\n      <td>12</td>\n      <td>18</td>\n      <td>41.00</td>\n      <td>21.92</td>\n      <td>46.23</td>\n      <td>260.0</td>\n      <td>17.26170</td>\n      <td>24.16638</td>\n      <td>0.0</td>\n      <td>1014.7</td>\n      <td>10.0</td>\n      <td>2013-02-12T23:00:00Z</td>\n    </tr>\n  </tbody>\n</table>\n<p>72 rows × 15 columns</p>\n</div>"
     },
     "metadata": {},
     "execution_count": 76
    }
   ],
   "source": [
    "df_feb12 = dfs[\"weather\"][dfs[\"weather\"][\"time_hour\"].str.contains('2013-02-12')]\n",
    "df_feb12"
   ]
  },
  {
   "cell_type": "code",
   "execution_count": 85,
   "metadata": {},
   "outputs": [
    {
     "output_type": "execute_result",
     "data": {
      "text/plain": [
       "(array(['EWR', 'JFK', 'LGA'], dtype=object), (72, 15))"
      ]
     },
     "metadata": {},
     "execution_count": 85
    }
   ],
   "source": [
    "df_feb12[\"origin\"].unique(), df_feb12.shape"
   ]
  },
  {
   "source": [
    "#### In this point I found that weather data is only from 'EWR', 'JFK' and 'LGA'. This airportrs are in NY area, then I shouldn't filter them"
   ],
   "cell_type": "markdown",
   "metadata": {}
  },
  {
   "cell_type": "code",
   "execution_count": 96,
   "metadata": {},
   "outputs": [
    {
     "output_type": "stream",
     "name": "stdout",
     "text": [
      "wind_speed: origin\nEWR    1048.36058\nJFK      20.71404\nLGA      23.01560\nName: wind_speed, dtype: float64\n\n\nwind_gust: origin\nEWR    31.07106\nJFK    27.61872\nLGA    31.07106\nName: wind_gust, dtype: float64\n\n\nwind_dir: origin\nEWR    310.0\nJFK    310.0\nLGA    320.0\nName: wind_dir, dtype: float64\n\n\n"
     ]
    }
   ],
   "source": [
    "df_feb12_grouped = df_feb12.groupby(\"origin\")\n",
    "\n",
    "wind_data = {\n",
    "    \"wind_speed\": df_feb12_grouped[\"wind_speed\"].max(),\n",
    "    \"wind_gust\": df_feb12_grouped[\"wind_gust\"].max(), \n",
    "    \"wind_dir\": df_feb12_grouped[\"wind_dir\"].max()\n",
    "}\n",
    "\n",
    "\n",
    "for k in wind_data.keys():\n",
    "    print(f\"{k}: {wind_data[k]}\\n\\n\")\n"
   ]
  },
  {
   "source": [
    "#### I will get only necesary columns and exclude outliers"
   ],
   "cell_type": "markdown",
   "metadata": {}
  },
  {
   "cell_type": "code",
   "execution_count": 109,
   "metadata": {},
   "outputs": [
    {
     "output_type": "stream",
     "name": "stdout",
     "text": [
      "      wind_speed  wind_gust  wind_dir\n0.05    3.452340  20.311267     244.5\n0.95   21.231891  31.071060     305.5\n"
     ]
    },
    {
     "output_type": "execute_result",
     "data": {
      "text/plain": [
       "      origin  wind_speed  wind_gust  wind_dir\n",
       "1001     EWR         NaN        NaN       NaN\n",
       "1002     EWR         NaN        NaN     300.0\n",
       "1003     EWR     9.20624        NaN       NaN\n",
       "1004     EWR     9.20624        NaN     290.0\n",
       "1005     EWR     8.05546        NaN     300.0\n",
       "...      ...         ...        ...       ...\n",
       "18429    LGA    20.71404   25.31716     300.0\n",
       "18430    LGA    17.26170   20.71404     260.0\n",
       "18431    LGA     9.20624        NaN     300.0\n",
       "18432    LGA    14.96014   21.86482     260.0\n",
       "18433    LGA    17.26170   24.16638     260.0\n",
       "\n",
       "[72 rows x 4 columns]"
      ],
      "text/html": "<div>\n<style scoped>\n    .dataframe tbody tr th:only-of-type {\n        vertical-align: middle;\n    }\n\n    .dataframe tbody tr th {\n        vertical-align: top;\n    }\n\n    .dataframe thead th {\n        text-align: right;\n    }\n</style>\n<table border=\"1\" class=\"dataframe\">\n  <thead>\n    <tr style=\"text-align: right;\">\n      <th></th>\n      <th>origin</th>\n      <th>wind_speed</th>\n      <th>wind_gust</th>\n      <th>wind_dir</th>\n    </tr>\n  </thead>\n  <tbody>\n    <tr>\n      <td>1001</td>\n      <td>EWR</td>\n      <td>NaN</td>\n      <td>NaN</td>\n      <td>NaN</td>\n    </tr>\n    <tr>\n      <td>1002</td>\n      <td>EWR</td>\n      <td>NaN</td>\n      <td>NaN</td>\n      <td>300.0</td>\n    </tr>\n    <tr>\n      <td>1003</td>\n      <td>EWR</td>\n      <td>9.20624</td>\n      <td>NaN</td>\n      <td>NaN</td>\n    </tr>\n    <tr>\n      <td>1004</td>\n      <td>EWR</td>\n      <td>9.20624</td>\n      <td>NaN</td>\n      <td>290.0</td>\n    </tr>\n    <tr>\n      <td>1005</td>\n      <td>EWR</td>\n      <td>8.05546</td>\n      <td>NaN</td>\n      <td>300.0</td>\n    </tr>\n    <tr>\n      <td>...</td>\n      <td>...</td>\n      <td>...</td>\n      <td>...</td>\n      <td>...</td>\n    </tr>\n    <tr>\n      <td>18429</td>\n      <td>LGA</td>\n      <td>20.71404</td>\n      <td>25.31716</td>\n      <td>300.0</td>\n    </tr>\n    <tr>\n      <td>18430</td>\n      <td>LGA</td>\n      <td>17.26170</td>\n      <td>20.71404</td>\n      <td>260.0</td>\n    </tr>\n    <tr>\n      <td>18431</td>\n      <td>LGA</td>\n      <td>9.20624</td>\n      <td>NaN</td>\n      <td>300.0</td>\n    </tr>\n    <tr>\n      <td>18432</td>\n      <td>LGA</td>\n      <td>14.96014</td>\n      <td>21.86482</td>\n      <td>260.0</td>\n    </tr>\n    <tr>\n      <td>18433</td>\n      <td>LGA</td>\n      <td>17.26170</td>\n      <td>24.16638</td>\n      <td>260.0</td>\n    </tr>\n  </tbody>\n</table>\n<p>72 rows × 4 columns</p>\n</div>"
     },
     "metadata": {},
     "execution_count": 109
    }
   ],
   "source": [
    "from scipy import stats\n",
    "import numpy as np\n",
    "\n",
    "\n",
    "# I will take only 3 columns\n",
    "df_feb12_reduced = df_feb12[[\"wind_speed\", \"wind_gust\", \"wind_dir\"]] \n",
    "\n",
    "# Then, computing percentiles.\n",
    "low = .05\n",
    "high = .95\n",
    "quant_df = df_feb12_reduced.quantile([low, high])\n",
    "print(quant_df)\n",
    "\n",
    "# Next filtering values based on computed percentiles\n",
    "df_feb12_reduced = df_feb12_reduced.apply(lambda x: x[(x>quant_df.loc[low,x.name]) & (x < quant_df.loc[high,x.name])], axis=0)\n",
    "\n",
    "df_feb12_reduced = pd.concat([df_feb12.loc[:,'origin'], df_feb12_reduced], axis=1)\n",
    "df_feb12_reduced\n"
   ]
  },
  {
   "cell_type": "code",
   "execution_count": 110,
   "metadata": {},
   "outputs": [
    {
     "output_type": "stream",
     "name": "stdout",
     "text": [
      "wind_speed: origin\nEWR    20.71404\nJFK    20.71404\nLGA    20.71404\nName: wind_speed, dtype: float64\n\n\nwind_gust: origin\nEWR    26.46794\nJFK    27.61872\nLGA    28.76950\nName: wind_gust, dtype: float64\n\n\nwind_dir: origin\nEWR    300.0\nJFK    300.0\nLGA    300.0\nName: wind_dir, dtype: float64\n\n\n"
     ]
    }
   ],
   "source": [
    "df_feb12_grouped = df_feb12_reduced.groupby(\"origin\")\n",
    "\n",
    "wind_data = {\n",
    "    \"wind_speed\": df_feb12_grouped[\"wind_speed\"].max(),\n",
    "    \"wind_gust\": df_feb12_grouped[\"wind_gust\"].max(), \n",
    "    \"wind_dir\": df_feb12_grouped[\"wind_dir\"].max()\n",
    "}\n",
    "\n",
    "\n",
    "for k in wind_data.keys():\n",
    "    print(f\"{k}: {wind_data[k]}\\n\\n\")"
   ]
  },
  {
   "cell_type": "code",
   "execution_count": 120,
   "metadata": {},
   "outputs": [
    {
     "output_type": "stream",
     "name": "stdout",
     "text": [
      "EWR\nwind_speed: 20.71404\nwind_gust: 26.467940000000002\nwind_dir: 300.0\n\n\n\nJFK\nwind_speed: 20.71404\nwind_gust: 27.61872\nwind_dir: 300.0\n\n\n\nLGA\nwind_speed: 20.71404\nwind_gust: 28.7695\nwind_dir: 300.0\n\n\n\n"
     ]
    }
   ],
   "source": [
    "columns = [\"wind_speed\", \"wind_gust\", \"wind_dir\"]\n",
    "for airport in df_feb12_reduced[\"origin\"].unique():\n",
    "    print(airport)\n",
    "    text = ''\n",
    "    for c in columns:\n",
    "        value = df_feb12_reduced[df_feb12_reduced[\"origin\"]==airport][c].max()\n",
    "        text += f\"{c}: {value}\\n\"\n",
    "\n",
    "    print(f\"{text}\\n\\n\")\n",
    "    "
   ]
  },
  {
   "source": [
    "#### Looking at information avobe, we can say that the the windiest weather airport on February 12th, 2013 was LGA\n",
    "\n",
    "LGA (LaGuardia Airport)"
   ],
   "cell_type": "markdown",
   "metadata": {}
  }
 ],
 "metadata": {
  "kernelspec": {
   "display_name": "Python 3",
   "language": "python",
   "name": "python3"
  },
  "language_info": {
   "codemirror_mode": {
    "name": "ipython",
    "version": 3
   },
   "file_extension": ".py",
   "mimetype": "text/x-python",
   "name": "python",
   "nbconvert_exporter": "python",
   "pygments_lexer": "ipython3",
   "version": "3.7.4-final"
  }
 },
 "nbformat": 4,
 "nbformat_minor": 2
}